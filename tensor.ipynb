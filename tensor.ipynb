{
 "cells": [
  {
   "cell_type": "markdown",
   "metadata": {},
   "source": [
    "# \"Image-based Driver Drowsiness Classification using Neural Network\"\n",
    "\n",
    "## (Revisi) Tugas Besar IF5181 - Pengenalan Pola\n",
    "\n",
    "23521027 - Kadek Denaya Rahadika\n",
    "\n",
    "23521037 - Krisna Fathurahman\n",
    "\n",
    "---\n",
    "\n",
    "## Spesifikasi Soal\n",
    "\n",
    "1. Gunakanlah dataset klasifikasi yang sudah dieksplorasi, berikanlah deskripsi dari minimal 3 model terbaik yang sudah ada dari studi literatur dalam 3 tahun terakhir untuk dataset tersebut.\n",
    "\n",
    "2. Tuliskan desain eksperimen, dengan mencantumkan:\n",
    "a. faktor apa yang diobservasi, variabel response yang digunakan, dan skenario eksperimen yang dilakukan. Teknik learning yang digunakan minimal menggunakan teknik yang dipelajari di kuliah (minimal DTL dan ANN).\n",
    "b. skema eksperimen (terutama terkait data latih, validasi, dan tes) dan komposisi data sesuai skema tersebut.\n",
    "\n",
    "3. Tuliskan hasil eksperimen dan analisisnya. Analisis dapat berupa perbandingan antar model, atau memberikan contoh error atau kasus penting yg perlu diobservasi, atau interpretasi hasil eksperimen berbasiskan statistik.\n",
    "\n",
    "4. Pengumpulan tugas berupa notebook ipynb yang dilengkapi dengan rekap hasil eksperimen pada notebook tersebut.\n",
    "\n",
    "5. Setiap kelompok akan mempresentasikan hasilnya pada Selasa 30 November 2021 dan Kamis 2 Desember, dan menyiapkan juga dalam bentuk video maksimum selama 10 menit (jika ada problem koneksi nantinya). Tuliskan link video pada bagian akhir notebook.\n",
    "\n",
    "---"
   ]
  },
  {
   "cell_type": "markdown",
   "metadata": {},
   "source": [
    "## I. Latar Belakang\n",
    "\n",
    "Kelompok kami akan menggunakan dataset berupa gambar wajah manusia berlabel *drowsy* atau *not drowsy* pada pranala berikut ini yang didapatkan dari situs kaggle.com. \n",
    "\n",
    "Dataset ini berisikan 9120 gambar yang terbagi menjadi dua kelas seimbang, drowsy dan not drowsy.\n",
    "\n",
    "    https://www.kaggle.com/rakibuleceruet/drowsiness-prediction-dataset\n",
    "\n",
    "Target kelas dari permasalahan ini berupa single-class yang bernilai antara ***drowsy*** atau ***not drowsy***\n",
    "\n",
    "-------------------------------"
   ]
  },
  {
   "cell_type": "markdown",
   "metadata": {},
   "source": [
    "## I.2. Studi Literatur\n",
    "\n",
    "1. Real-Time Driver Drowsiness Detection System Using Eye Aspect Ratio and Eye Closure Ratio\n",
    "\n",
    "    Dalam penelitian yang dilakukan pada tahun 2019 ini, penulis (Mehta dkk.) menggunakan aspek rasio mata yang tertutup atau yang terbuka, yang diambil dari sensor setiap satu detik. Hasil sensor ini yang berupa facial landmarks lalu dimasukkan ke dalam model SVM, Naive Bayes, dan Random Forest. \n",
    "\n",
    "    ![Contoh facial landmark yang dijadikan input ke classifier](assets/facial_landmarks.jpeg)\n",
    "\n",
    "    Gambar di atas adalah contoh facial landmark yang dijadikan input ke dalam classifier. Didapatkan bahwa random forest menghasilkan tingkat akurasi yang tertinggi. Kami akan mencoba menggunakan Random Forest dalam penelitian kami, namun kami akan menggunakan pixel sebagai input pengganti dari facial landmark, agar tidak menggunakan package bantuan lain.\n",
    "\n",
    "    -------------------------------\n",
    "\n",
    "\n",
    "2. Deep CNN Models-based Ensemble Approach to Driver Drowsiness Detection\n",
    "\n",
    "    Penelitian ini dilakukan pada tahun 2020 oleh Dua dkk. Penelitian ini menggabungkan empat arsitektur CNN yang sudah sering digunakan dalam drowsiness detection, yaitu AlexNet, VGG-FaceNet, FlowImageNet, dan ResNet untuk mengklasifikasi input data berupa video. AlexNet digunakan untuk mengekstrak keadaan sekitar (environmental changes), VGG-FaceNet untuk mengesktrak karakteristik muka, FlowImageNet digunakan untuk mengekstrak gestur kepala, dan ResNet untuk mengestrak gestur tangan.\n",
    "\n",
    "    ![](assets/vgg_facenet.jpeg)\n",
    "\n",
    "    Gambar di atas adalah arsitektur dan rancangan eksperimen dari penelitian tersebut. \n",
    "\n",
    "    Karena input yang kami miliki hanyalah berupa gambar muka, sedangkan gestur kepala, tangan, dan perubahan daerah sekitar hanya dapat diambil dengan input video, kami akan mencoba menggunakan hanya VGG-FaceNet untuk mengklasifikasikan gambar input yang kami miliki. Berikut adalah arsitektur VGG-FaceNet yang digunakan oleh Dua dkk.\n",
    "\n",
    "    ![](assets/vgg_facenet_architecture.JPG)\n",
    "\n",
    "\n",
    "    -------------------------------\n",
    "\n",
    "3. Driver Drowsiness Detection Based On the DenseNet201 Model\n",
    "\n",
    "    Dalam penelitian di tahun 2021 ini, Hussein dkk. menggunakan CNN dengan arsitektur DenseNet untuk mengklasifikasikan gambar menjadi drowsy atau not drowsy. Namun, terdapat pra pemrosesan yaitu mendapati bagian wajah dan mata dengan menggunakan teknik Voila-Jones. \n",
    "    \n",
    "    Hasil yang didapatkan sangat mengesankan, dengan akurasi mencapai 99%.\n",
    "\n",
    "    Dalam percobaan kami, kami akan mencoba membangun arsitektur CNN dari awal, lalu mencoba menganalisis hasil dan melakukan proses penyesuaian arsitektur.\n",
    "\n",
    "\n"
   ]
  },
  {
   "cell_type": "markdown",
   "metadata": {},
   "source": [
    "\n",
    "## I.3. Desain Eksperimen\n",
    "\n",
    "Dalam eksperimen ini, kami akan mencoba mereplikasi (dengan sedikit modifikasi) beberapa model dari referensi literatur di atas. Lalu, kami juga akan mencoba membangun model CNN dari awal, lalu mencoba meningkatkan kinerja dari arsitektur CNN tersebut dengan melakukan modifikasi sesuai dengan hasil kinerja arsitektur yang sebelumnya.\n",
    "\n",
    "Dalam mengevaluasi model, kami menggunakan validation set dibangun secara random dari training set yang ada.\n",
    "Berikut merupakan komposisi data yang kami gunakan:\n",
    "\n",
    "- Training set:\n",
    "    - 4560 drowsy\n",
    "    - 4560 not_drowsy\n",
    "- Validation set:\n",
    "    - 300 drowsy\n",
    "    - 300 not_drowsy\n",
    "\n",
    "Performance measure yang digunakan adalah akurasi, namun kami juga akan memperhatikan bagaimana kinerja precision dan recall dari model melalui confusion matrix.\n",
    "\n",
    "Dalam percobaan CNN nanti, variabel yang akan kami observasi adalah:\n",
    "- Besar epoch\n",
    "- Penggunaan Dropout layer\n",
    "- Besar matrix CNN\n",
    "- Banyaknya dense layer"
   ]
  },
  {
   "cell_type": "markdown",
   "metadata": {},
   "source": [
    "# II. Percobaan DTL\n",
    "\n",
    "Dalam bagian ini, kami akan mencoba menggunakan decision tree based learning untuk melakukan pengklasifikasian terhadap dataset.\n",
    "Model yang kami gunakan adalah Random Forest Classifier, yang menurut Mehta dkk dalam penelitian \"Real-Time Driver Drowsiness Detection System Using Eye Aspect Ratio and Eye Closure Ratio\" mendapati bahwa random forest classifier dapat secara baik mengklasifikasikan permasalahan drowsiness detection.\n",
    "\n",
    "Pertama-tama, data yang merupakan gambar akan flattening menjadi nilai rgb per pixel nya. Data dibuat menjadi bentuk 100x100\n",
    "\n",
    "Karena proses flattening lama, hasil flattening akan disimpan dalam dataset.csv agar dapat digunakan lagi nantinya, tanpa mengulangi proses flattening."
   ]
  },
  {
   "cell_type": "code",
   "execution_count": 3,
   "metadata": {},
   "outputs": [
    {
     "name": "stdout",
     "output_type": "stream",
     "text": [
      "/home/internet/itb/pattern_recognition/training_set/drowsy\n",
      "Processing image number: 0\n",
      "Processing image number: 100\n",
      "Processing image number: 200\n",
      "Processing image number: 300\n",
      "Processing image number: 400\n",
      "Processing image number: 500\n",
      "Processing image number: 600\n",
      "Processing image number: 700\n",
      "Processing image number: 800\n",
      "Processing image number: 900\n",
      "Processing image number: 1000\n",
      "Processing image number: 1100\n",
      "Processing image number: 1200\n",
      "Processing image number: 1300\n",
      "Processing image number: 1400\n",
      "Processing image number: 1500\n",
      "Processing image number: 1600\n",
      "Processing image number: 1700\n",
      "Processing image number: 1800\n",
      "Processing image number: 1900\n",
      "Processing image number: 2000\n",
      "Processing image number: 2100\n",
      "Processing image number: 2200\n",
      "Processing image number: 2300\n",
      "Processing image number: 2400\n",
      "Processing image number: 2500\n",
      "Processing image number: 2600\n",
      "Processing image number: 2700\n",
      "Processing image number: 2800\n",
      "Processing image number: 2900\n",
      "Processing image number: 3000\n",
      "Processing image number: 3100\n",
      "Processing image number: 3200\n",
      "Processing image number: 3300\n",
      "Processing image number: 3400\n",
      "Processing image number: 3500\n",
      "Processing image number: 3600\n",
      "Processing image number: 3700\n",
      "Processing image number: 3800\n",
      "Processing image number: 3900\n",
      "Processing image number: 4000\n",
      "Processing image number: 4100\n",
      "Processing image number: 4200\n",
      "Processing image number: 4300\n",
      "Processing image number: 4400\n",
      "Processing image number: 4500\n",
      "/home/internet/itb/pattern_recognition/training_set/not_drowsy\n",
      "Processing image number: 0\n",
      "Processing image number: 100\n",
      "Processing image number: 200\n",
      "Processing image number: 300\n",
      "Processing image number: 400\n",
      "Processing image number: 500\n",
      "Processing image number: 600\n",
      "Processing image number: 700\n",
      "Processing image number: 800\n",
      "Processing image number: 900\n",
      "Processing image number: 1000\n",
      "Processing image number: 1100\n",
      "Processing image number: 1200\n",
      "Processing image number: 1300\n",
      "Processing image number: 1400\n",
      "Processing image number: 1500\n",
      "Processing image number: 1600\n",
      "Processing image number: 1700\n",
      "Processing image number: 1800\n",
      "Processing image number: 1900\n",
      "Processing image number: 2000\n",
      "Processing image number: 2100\n",
      "Processing image number: 2200\n",
      "Processing image number: 2300\n",
      "Processing image number: 2400\n",
      "Processing image number: 2500\n",
      "Processing image number: 2600\n",
      "Processing image number: 2700\n",
      "Processing image number: 2800\n",
      "Processing image number: 2900\n",
      "Processing image number: 3000\n",
      "Processing image number: 3100\n",
      "Processing image number: 3200\n",
      "Processing image number: 3300\n",
      "Processing image number: 3400\n",
      "Processing image number: 3500\n",
      "Processing image number: 3600\n",
      "Processing image number: 3700\n",
      "Processing image number: 3800\n",
      "Processing image number: 3900\n",
      "Processing image number: 4000\n",
      "Processing image number: 4100\n",
      "Processing image number: 4200\n",
      "Processing image number: 4300\n",
      "Processing image number: 4400\n",
      "Processing image number: 4500\n"
     ]
    }
   ],
   "source": [
    "import os\n",
    "import numpy as np\n",
    "from tensorflow.keras.preprocessing.image import load_img, img_to_array\n",
    "\n",
    "IMG_DIR = '/home/internet/itb/pattern_recognition/training_set'\n",
    "\n",
    "for cls in os.listdir(IMG_DIR):\n",
    "    cls_path = os.path.join(IMG_DIR, cls)\n",
    "    print(cls_path)\n",
    "    for i, img_file in enumerate(os.listdir(cls_path)):\n",
    "        if i % 100 == 0:\n",
    "            print(f\"Processing image number: {i}\")\n",
    "        img = load_img(os.path.join(cls_path, img_file), target_size=(100, 100), color_mode=\"grayscale\")\n",
    "        img_array = (img_to_array(img)).flatten()\n",
    "        \n",
    "        img_array = np.append(img_array, 1 if cls == \"drowsy\" else 0)\n",
    "        img_array  = img_array.reshape(-1, 1).T\n",
    "        \n",
    "        # save it to a csv file\n",
    "        with open('dataset.csv', 'ab') as f:\n",
    "            np.savetxt(f, img_array, fmt='%s', delimiter=\",\")"
   ]
  },
  {
   "cell_type": "code",
   "execution_count": 2,
   "metadata": {},
   "outputs": [
    {
     "name": "stderr",
     "output_type": "stream",
     "text": [
      "2021-12-04 08:02:01.735528: W tensorflow/stream_executor/platform/default/dso_loader.cc:64] Could not load dynamic library 'libcudart.so.11.0'; dlerror: libcudart.so.11.0: cannot open shared object file: No such file or directory\n",
      "2021-12-04 08:02:01.735605: I tensorflow/stream_executor/cuda/cudart_stub.cc:29] Ignore above cudart dlerror if you do not have a GPU set up on your machine.\n"
     ]
    },
    {
     "name": "stdout",
     "output_type": "stream",
     "text": [
      "/home/internet/itb/pattern_recognition/validation_set/not drowsy\n",
      "Processing image number: 0\n",
      "Processing image number: 100\n",
      "Processing image number: 200\n",
      "/home/internet/itb/pattern_recognition/validation_set/drowsy\n",
      "Processing image number: 0\n",
      "Processing image number: 100\n",
      "Processing image number: 200\n"
     ]
    }
   ],
   "source": [
    "import os\n",
    "import numpy as np\n",
    "from tensorflow.keras.preprocessing.image import load_img, img_to_array\n",
    "\n",
    "IMG_DIR = '/home/internet/itb/pattern_recognition/validation_set'\n",
    "\n",
    "for cls in os.listdir(IMG_DIR):\n",
    "    cls_path = os.path.join(IMG_DIR, cls)\n",
    "    print(cls_path)\n",
    "    for i, img_file in enumerate(os.listdir(cls_path)):\n",
    "        if i % 100 == 0:\n",
    "            print(f\"Processing image number: {i}\")\n",
    "        img = load_img(os.path.join(cls_path, img_file), target_size=(100, 100), color_mode=\"grayscale\")\n",
    "        img_array = (img_to_array(img)).flatten()\n",
    "        \n",
    "        img_array = np.append(img_array, 1 if cls == \"drowsy\" else 0)\n",
    "        img_array  = img_array.reshape(-1, 1).T\n",
    "        \n",
    "        # save it to a csv file\n",
    "        with open('validation_dataset.csv', 'ab') as f:\n",
    "            np.savetxt(f, img_array, fmt='%s', delimiter=\",\")"
   ]
  },
  {
   "cell_type": "code",
   "execution_count": 7,
   "metadata": {},
   "outputs": [
    {
     "data": {
      "text/html": [
       "<div>\n",
       "<style scoped>\n",
       "    .dataframe tbody tr th:only-of-type {\n",
       "        vertical-align: middle;\n",
       "    }\n",
       "\n",
       "    .dataframe tbody tr th {\n",
       "        vertical-align: top;\n",
       "    }\n",
       "\n",
       "    .dataframe thead th {\n",
       "        text-align: right;\n",
       "    }\n",
       "</style>\n",
       "<table border=\"1\" class=\"dataframe\">\n",
       "  <thead>\n",
       "    <tr style=\"text-align: right;\">\n",
       "      <th></th>\n",
       "      <th>0</th>\n",
       "      <th>1</th>\n",
       "      <th>2</th>\n",
       "      <th>3</th>\n",
       "      <th>4</th>\n",
       "      <th>5</th>\n",
       "      <th>6</th>\n",
       "      <th>7</th>\n",
       "      <th>8</th>\n",
       "      <th>9</th>\n",
       "      <th>...</th>\n",
       "      <th>9991</th>\n",
       "      <th>9992</th>\n",
       "      <th>9993</th>\n",
       "      <th>9994</th>\n",
       "      <th>9995</th>\n",
       "      <th>9996</th>\n",
       "      <th>9997</th>\n",
       "      <th>9998</th>\n",
       "      <th>9999</th>\n",
       "      <th>10000</th>\n",
       "    </tr>\n",
       "  </thead>\n",
       "  <tbody>\n",
       "    <tr>\n",
       "      <th>0</th>\n",
       "      <td>244.0</td>\n",
       "      <td>244.0</td>\n",
       "      <td>233.0</td>\n",
       "      <td>233.0</td>\n",
       "      <td>234.0</td>\n",
       "      <td>232.0</td>\n",
       "      <td>229.0</td>\n",
       "      <td>222.0</td>\n",
       "      <td>227.0</td>\n",
       "      <td>222.0</td>\n",
       "      <td>...</td>\n",
       "      <td>54.0</td>\n",
       "      <td>54.0</td>\n",
       "      <td>50.0</td>\n",
       "      <td>47.0</td>\n",
       "      <td>50.0</td>\n",
       "      <td>51.0</td>\n",
       "      <td>56.0</td>\n",
       "      <td>55.0</td>\n",
       "      <td>53.0</td>\n",
       "      <td>1.0</td>\n",
       "    </tr>\n",
       "  </tbody>\n",
       "</table>\n",
       "<p>1 rows × 10001 columns</p>\n",
       "</div>"
      ],
      "text/plain": [
       "   0      1      2      3      4      5      6      7      8      9      ...  \\\n",
       "0  244.0  244.0  233.0  233.0  234.0  232.0  229.0  222.0  227.0  222.0  ...   \n",
       "\n",
       "   9991   9992   9993   9994   9995   9996   9997   9998   9999   10000  \n",
       "0   54.0   54.0   50.0   47.0   50.0   51.0   56.0   55.0   53.0    1.0  \n",
       "\n",
       "[1 rows x 10001 columns]"
      ]
     },
     "execution_count": 7,
     "metadata": {},
     "output_type": "execute_result"
    }
   ],
   "source": [
    "# using dask for big csv data instead of pandas\n",
    "import dask.dataframe as dd\n",
    "\n",
    "df = dd.read_csv(\"./dataset.csv\", header=None)\n",
    "val_df = dd.read_csv(\"./validation_dataset.csv\", header=None)\n",
    "df.head(1)"
   ]
  },
  {
   "cell_type": "code",
   "execution_count": 8,
   "metadata": {},
   "outputs": [],
   "source": [
    "X_train=df.iloc[:, :-1]  # Features\n",
    "y_train=df.iloc[:, -1].astype(int)  # Labels\n",
    "\n",
    "X_test=val_df.iloc[:, :-1]  # Features\n",
    "y_test=val_df.iloc[:, -1].astype(int)  # Labels"
   ]
  },
  {
   "cell_type": "code",
   "execution_count": 9,
   "metadata": {},
   "outputs": [
    {
     "name": "stdout",
     "output_type": "stream",
     "text": [
      "Accuracy: 0.9383333333333334\n"
     ]
    }
   ],
   "source": [
    "from sklearn.ensemble import RandomForestClassifier\n",
    "from sklearn import metrics\n",
    "\n",
    "clf=RandomForestClassifier(n_estimators=100)\n",
    "clf.fit(X_train,y_train)\n",
    "y_pred=clf.predict(X_test)\n",
    "print(\"Accuracy:\", metrics.accuracy_score(y_test, y_pred))\n"
   ]
  },
  {
   "cell_type": "markdown",
   "metadata": {},
   "source": [
    "Ternyata, penggunaan Random Forest dalam proses pengklasifikasian ini cukup baik, degnan besaran performa akurasi sekitar 94% (berubah-ubah setiap run)"
   ]
  },
  {
   "cell_type": "code",
   "execution_count": 10,
   "metadata": {},
   "outputs": [
    {
     "data": {
      "text/plain": [
       "array([[263,  37],\n",
       "       [  0, 300]])"
      ]
     },
     "execution_count": 10,
     "metadata": {},
     "output_type": "execute_result"
    }
   ],
   "source": [
    "from sklearn.metrics import confusion_matrix\n",
    "\n",
    "confusion_matrix(y_test, y_pred)\n"
   ]
  },
  {
   "cell_type": "code",
   "execution_count": 12,
   "metadata": {},
   "outputs": [
    {
     "name": "stdout",
     "output_type": "stream",
     "text": [
      "263 37 0 300\n"
     ]
    }
   ],
   "source": [
    "tn, fp, fn, tp = confusion_matrix(y_test, y_pred).ravel()\n",
    "print(tn, fp, fn, tp)"
   ]
  },
  {
   "cell_type": "markdown",
   "metadata": {},
   "source": [
    "\n",
    "Kita dapatkan True Negative (not drowsy) adalah 263, False Positive (terklasifikasi drowsy, seharusnya not drowsy) 37, 0 false negative, dan 300 (sempurna) true positive, dengan akurasi 93.8%."
   ]
  },
  {
   "cell_type": "code",
   "execution_count": 13,
   "metadata": {},
   "outputs": [
    {
     "name": "stdout",
     "output_type": "stream",
     "text": [
      "Precision: 0.8902077151335311 \n",
      " Recall: 1.0\n"
     ]
    }
   ],
   "source": [
    "precision = tp / (tp + fp)\n",
    "recall = tp / (tp + fn)\n",
    "print(f\"Precision: {precision} \\n Recall: {recall}\")"
   ]
  },
  {
   "cell_type": "markdown",
   "metadata": {},
   "source": [
    "# III. Percobaan Utama -- CNN\n",
    "\n",
    "Dalam bagian ini, kami akan mencoba mengembangkan model CNN yang kami bangun untuk menyelesaikan masalah drowsiness detection"
   ]
  },
  {
   "cell_type": "code",
   "execution_count": 1,
   "metadata": {},
   "outputs": [
    {
     "name": "stderr",
     "output_type": "stream",
     "text": [
      "2021-12-04 08:49:40.403756: W tensorflow/stream_executor/platform/default/dso_loader.cc:64] Could not load dynamic library 'libcudart.so.11.0'; dlerror: libcudart.so.11.0: cannot open shared object file: No such file or directory\n",
      "2021-12-04 08:49:40.403781: I tensorflow/stream_executor/cuda/cudart_stub.cc:29] Ignore above cudart dlerror if you do not have a GPU set up on your machine.\n"
     ]
    }
   ],
   "source": [
    "import tensorflow\n",
    "from tensorflow.keras import layers, models\n",
    "import pandas as pd"
   ]
  },
  {
   "cell_type": "code",
   "execution_count": 2,
   "metadata": {},
   "outputs": [
    {
     "name": "stdout",
     "output_type": "stream",
     "text": [
      "Found 9120 files belonging to 2 classes.\n",
      "Found 600 files belonging to 2 classes.\n"
     ]
    },
    {
     "name": "stderr",
     "output_type": "stream",
     "text": [
      "2021-12-03 12:53:45.274828: W tensorflow/stream_executor/platform/default/dso_loader.cc:64] Could not load dynamic library 'libcuda.so.1'; dlerror: libcuda.so.1: cannot open shared object file: No such file or directory\n",
      "2021-12-03 12:53:45.274870: W tensorflow/stream_executor/cuda/cuda_driver.cc:269] failed call to cuInit: UNKNOWN ERROR (303)\n",
      "2021-12-03 12:53:45.274890: I tensorflow/stream_executor/cuda/cuda_diagnostics.cc:156] kernel driver does not appear to be running on this host (DESKTOP-72CTI4N): /proc/driver/nvidia/version does not exist\n",
      "2021-12-03 12:53:45.278201: I tensorflow/core/platform/cpu_feature_guard.cc:151] This TensorFlow binary is optimized with oneAPI Deep Neural Network Library (oneDNN) to use the following CPU instructions in performance-critical operations:  AVX2 FMA\n",
      "To enable them in other operations, rebuild TensorFlow with the appropriate compiler flags.\n"
     ]
    },
    {
     "name": "stdout",
     "output_type": "stream",
     "text": [
      "Epoch 1/10\n",
      "285/285 [==============================] - 55s 188ms/step - loss: 0.7531 - accuracy: 0.7817 - val_loss: 0.4211 - val_accuracy: 0.8117\n",
      "Epoch 2/10\n",
      "285/285 [==============================] - 47s 161ms/step - loss: 0.3510 - accuracy: 0.8364 - val_loss: 0.3682 - val_accuracy: 0.8467\n",
      "Epoch 3/10\n",
      "285/285 [==============================] - 48s 167ms/step - loss: 0.3181 - accuracy: 0.8567 - val_loss: 0.3409 - val_accuracy: 0.8500\n",
      "Epoch 4/10\n",
      "285/285 [==============================] - 48s 166ms/step - loss: 0.2909 - accuracy: 0.8709 - val_loss: 0.3681 - val_accuracy: 0.8067\n",
      "Epoch 5/10\n",
      "285/285 [==============================] - 51s 178ms/step - loss: 0.2751 - accuracy: 0.8825 - val_loss: 0.3207 - val_accuracy: 0.8633\n",
      "Epoch 6/10\n",
      "285/285 [==============================] - 62s 216ms/step - loss: 0.2595 - accuracy: 0.8866 - val_loss: 0.3477 - val_accuracy: 0.8633\n",
      "Epoch 7/10\n",
      "285/285 [==============================] - 53s 185ms/step - loss: 0.2413 - accuracy: 0.8982 - val_loss: 0.3456 - val_accuracy: 0.8600\n",
      "Epoch 8/10\n",
      "285/285 [==============================] - 53s 184ms/step - loss: 0.2184 - accuracy: 0.9077 - val_loss: 0.3469 - val_accuracy: 0.8650\n",
      "Epoch 9/10\n",
      "285/285 [==============================] - 55s 189ms/step - loss: 0.2116 - accuracy: 0.9130 - val_loss: 0.3606 - val_accuracy: 0.8367\n",
      "Epoch 10/10\n",
      "285/285 [==============================] - 50s 174ms/step - loss: 0.2028 - accuracy: 0.9161 - val_loss: 0.3772 - val_accuracy: 0.8700\n"
     ]
    },
    {
     "data": {
      "text/plain": [
       "<AxesSubplot:>"
      ]
     },
     "execution_count": 2,
     "metadata": {},
     "output_type": "execute_result"
    },
    {
     "data": {
      "image/png": "[encoded data removed]",
      "text/plain": [
       "<Figure size 432x288 with 1 Axes>"
      ]
     },
     "metadata": {
      "needs_background": "light"
     },
     "output_type": "display_data"
    },
    {
     "data": {
      "image/png": "[encoded data removed]",
      "text/plain": [
       "<Figure size 432x288 with 1 Axes>"
      ]
     },
     "metadata": {
      "needs_background": "light"
     },
     "output_type": "display_data"
    }
   ],
   "source": [
    "training_set = tensorflow.keras.preprocessing.image_dataset_from_directory(\n",
    "    \"/home/internet/itb/pattern_recognition/training_set\",\n",
    "    seed=101,\n",
    "    image_size=(100, 100),\n",
    "    batch_size=32\n",
    ")\n",
    "validation_set = tensorflow.keras.preprocessing.image_dataset_from_directory(\n",
    "    \"/home/internet/itb/pattern_recognition/validation_set\",\n",
    "    seed=101,\n",
    "    image_size=(100, 100),\n",
    "    batch_size=32\n",
    ")\n",
    "\n",
    "\n",
    "model = models.Sequential(\n",
    "  [\n",
    "    layers.Conv2D(8, (3, 3), activation=\"relu\", padding=\"same\", input_shape=(100, 100, 3)),\n",
    "    layers.MaxPooling2D((2, 2)),\n",
    "    layers.Conv2D(32, (3, 3), activation=\"relu\", padding=\"same\"),\n",
    "    layers.MaxPooling2D((2, 2)),\n",
    "    layers.Conv2D(64, (3, 3), activation=\"relu\", padding=\"same\"),\n",
    "    layers.MaxPooling2D((2, 2)),\n",
    "    layers.Conv2D(128, (3, 3), activation=\"relu\", padding=\"same\"),\n",
    "    layers.Flatten(),\n",
    "    layers.Dense(64, activation=\"relu\"),\n",
    "    layers.Dense(10, activation=\"relu\"),\n",
    "    layers.Dense(1, activation=\"sigmoid\")\n",
    "  ],\n",
    "  name=\"Model\"\n",
    ")\n",
    "\n",
    "model.compile(\n",
    "    optimizer='adam',\n",
    "    loss=\"binary_crossentropy\",\n",
    "    metrics=['accuracy']\n",
    ")\n",
    "\n",
    "history = model.fit(training_set,validation_data=validation_set, epochs=10)\n",
    "metrics_df = pd.DataFrame(history.history)\n",
    "metrics_df[[\"loss\",\"val_loss\"]].plot()\n",
    "metrics_df[[\"accuracy\",\"val_accuracy\"]].plot()"
   ]
  },
  {
   "cell_type": "markdown",
   "metadata": {},
   "source": [
    "Terlihat bahwa epoch 10 belum cukup untuk melihat hasil akhir akurasi dan val accuracy. Kita akan mencoba menambahkan epoch.\n",
    "\n"
   ]
  },
  {
   "cell_type": "code",
   "execution_count": 2,
   "metadata": {},
   "outputs": [
    {
     "name": "stdout",
     "output_type": "stream",
     "text": [
      "Found 9120 files belonging to 2 classes.\n"
     ]
    },
    {
     "name": "stderr",
     "output_type": "stream",
     "text": [
      "2021-12-04 08:49:58.103830: W tensorflow/stream_executor/platform/default/dso_loader.cc:64] Could not load dynamic library 'libcuda.so.1'; dlerror: libcuda.so.1: cannot open shared object file: No such file or directory\n",
      "2021-12-04 08:49:58.103871: W tensorflow/stream_executor/cuda/cuda_driver.cc:269] failed call to cuInit: UNKNOWN ERROR (303)\n",
      "2021-12-04 08:49:58.103889: I tensorflow/stream_executor/cuda/cuda_diagnostics.cc:156] kernel driver does not appear to be running on this host (DESKTOP-72CTI4N): /proc/driver/nvidia/version does not exist\n",
      "2021-12-04 08:49:58.107168: I tensorflow/core/platform/cpu_feature_guard.cc:151] This TensorFlow binary is optimized with oneAPI Deep Neural Network Library (oneDNN) to use the following CPU instructions in performance-critical operations:  AVX2 FMA\n",
      "To enable them in other operations, rebuild TensorFlow with the appropriate compiler flags.\n"
     ]
    },
    {
     "name": "stdout",
     "output_type": "stream",
     "text": [
      "Found 600 files belonging to 2 classes.\n",
      "Epoch 1/20\n",
      "285/285 [==============================] - 42s 142ms/step - loss: 1.5094 - accuracy: 0.7922 - val_loss: 0.3977 - val_accuracy: 0.8350\n",
      "Epoch 2/20\n",
      "285/285 [==============================] - 40s 136ms/step - loss: 0.3453 - accuracy: 0.8439 - val_loss: 0.3533 - val_accuracy: 0.8417\n",
      "Epoch 3/20\n",
      "285/285 [==============================] - 39s 134ms/step - loss: 0.3132 - accuracy: 0.8593 - val_loss: 0.3373 - val_accuracy: 0.8433\n",
      "Epoch 4/20\n",
      "285/285 [==============================] - 38s 133ms/step - loss: 0.2920 - accuracy: 0.8701 - val_loss: 0.3823 - val_accuracy: 0.8167\n",
      "Epoch 5/20\n",
      "285/285 [==============================] - 39s 135ms/step - loss: 0.2856 - accuracy: 0.8760 - val_loss: 0.3321 - val_accuracy: 0.8433\n",
      "Epoch 6/20\n",
      "285/285 [==============================] - 39s 133ms/step - loss: 0.2753 - accuracy: 0.8821 - val_loss: 0.3267 - val_accuracy: 0.8583\n",
      "Epoch 7/20\n",
      "285/285 [==============================] - 39s 134ms/step - loss: 0.2555 - accuracy: 0.8907 - val_loss: 0.3635 - val_accuracy: 0.8450\n",
      "Epoch 8/20\n",
      "285/285 [==============================] - 40s 137ms/step - loss: 0.2516 - accuracy: 0.8942 - val_loss: 0.3341 - val_accuracy: 0.8633\n",
      "Epoch 9/20\n",
      "285/285 [==============================] - 39s 134ms/step - loss: 0.2487 - accuracy: 0.8954 - val_loss: 0.3836 - val_accuracy: 0.8400\n",
      "Epoch 10/20\n",
      "285/285 [==============================] - 39s 134ms/step - loss: 0.2444 - accuracy: 0.8984 - val_loss: 0.3854 - val_accuracy: 0.8567\n",
      "Epoch 11/20\n",
      "285/285 [==============================] - 38s 132ms/step - loss: 0.2373 - accuracy: 0.9018 - val_loss: 0.4481 - val_accuracy: 0.8533\n",
      "Epoch 12/20\n",
      "285/285 [==============================] - 38s 132ms/step - loss: 0.2290 - accuracy: 0.9060 - val_loss: 0.4123 - val_accuracy: 0.8450\n",
      "Epoch 13/20\n",
      "285/285 [==============================] - 39s 136ms/step - loss: 0.2215 - accuracy: 0.9125 - val_loss: 0.3477 - val_accuracy: 0.8800\n",
      "Epoch 14/20\n",
      "285/285 [==============================] - 41s 140ms/step - loss: 0.2105 - accuracy: 0.9133 - val_loss: 0.4600 - val_accuracy: 0.8383\n",
      "Epoch 15/20\n",
      "285/285 [==============================] - 40s 137ms/step - loss: 0.2071 - accuracy: 0.9155 - val_loss: 0.3936 - val_accuracy: 0.8617\n",
      "Epoch 16/20\n",
      "285/285 [==============================] - 38s 130ms/step - loss: 0.2033 - accuracy: 0.9184 - val_loss: 0.3773 - val_accuracy: 0.8750\n",
      "Epoch 17/20\n",
      "285/285 [==============================] - 38s 132ms/step - loss: 0.1983 - accuracy: 0.9211 - val_loss: 0.3920 - val_accuracy: 0.8850\n",
      "Epoch 18/20\n",
      "285/285 [==============================] - 40s 139ms/step - loss: 0.1914 - accuracy: 0.9231 - val_loss: 0.4283 - val_accuracy: 0.8517\n",
      "Epoch 19/20\n",
      "285/285 [==============================] - 38s 131ms/step - loss: 0.1761 - accuracy: 0.9323 - val_loss: 0.3970 - val_accuracy: 0.8450\n",
      "Epoch 20/20\n",
      "285/285 [==============================] - 38s 132ms/step - loss: 0.1662 - accuracy: 0.9321 - val_loss: 0.4036 - val_accuracy: 0.8700\n"
     ]
    },
    {
     "data": {
      "text/plain": [
       "<AxesSubplot:>"
      ]
     },
     "execution_count": 2,
     "metadata": {},
     "output_type": "execute_result"
    },
    {
     "data": {
      "image/png": "[encoded data removed]",
      "text/plain": [
       "<Figure size 432x288 with 1 Axes>"
      ]
     },
     "metadata": {
      "needs_background": "light"
     },
     "output_type": "display_data"
    },
    {
     "data": {
      "image/png": "[encoded data removed]",
      "text/plain": [
       "<Figure size 432x288 with 1 Axes>"
      ]
     },
     "metadata": {
      "needs_background": "light"
     },
     "output_type": "display_data"
    }
   ],
   "source": [
    "training_set = tensorflow.keras.preprocessing.image_dataset_from_directory(\n",
    "    \"/home/internet/itb/pattern_recognition/training_set\",\n",
    "    seed=101,\n",
    "    image_size=(100, 100),\n",
    "    batch_size=32\n",
    ")\n",
    "validation_set = tensorflow.keras.preprocessing.image_dataset_from_directory(\n",
    "    \"/home/internet/itb/pattern_recognition/validation_set\",\n",
    "    seed=101,\n",
    "    image_size=(100, 100),\n",
    "    batch_size=32\n",
    ")\n",
    "\n",
    "model = models.Sequential(\n",
    "  [\n",
    "    layers.Conv2D(8, (3, 3), activation=\"relu\", padding=\"same\", input_shape=(100, 100, 3)),\n",
    "    layers.MaxPooling2D((2, 2)),\n",
    "    layers.Conv2D(32, (3, 3), activation=\"relu\", padding=\"same\"),\n",
    "    layers.MaxPooling2D((2, 2)),\n",
    "    layers.Conv2D(64, (3, 3), activation=\"relu\", padding=\"same\"),\n",
    "    layers.MaxPooling2D((2, 2)),\n",
    "    layers.Conv2D(128, (3, 3), activation=\"relu\", padding=\"same\"),\n",
    "    layers.Flatten(),\n",
    "    layers.Dense(64, activation=\"relu\"),\n",
    "    layers.Dense(10, activation=\"relu\"),\n",
    "    layers.Dense(1, activation=\"sigmoid\")\n",
    "  ],\n",
    "  name=\"Model\"\n",
    ")\n",
    "\n",
    "model.compile(\n",
    "    optimizer='adam',\n",
    "    loss=\"binary_crossentropy\",\n",
    "    metrics=['accuracy']\n",
    ")\n",
    "\n",
    "history = model.fit(training_set,validation_data=validation_set, epochs=20)\n",
    "metrics_df = pd.DataFrame(history.history)\n",
    "metrics_df[[\"loss\",\"val_loss\"]].plot()\n",
    "metrics_df[[\"accuracy\",\"val_accuracy\"]].plot()"
   ]
  },
  {
   "cell_type": "markdown",
   "metadata": {},
   "source": [
    "Dari hasil ini kita dapat lihat bahwa terjadi fenomena overfitting terhadap validation set (ditunjukkan dari jauhnya perbedaan akurasi antara training set dan validation set)."
   ]
  },
  {
   "cell_type": "markdown",
   "metadata": {},
   "source": [
    "### Pencegahan Overfitting\n",
    "\n",
    "- Menambahkan Dropout Layer untuk mengurangi network complexity. \n",
    "\n",
    "        Kitsuchart dkk. mengutarakan dalam penelitian yang mereka lakukan bahwa penggunaan dropout efisien dalam menurunkan overfit dalam CNN dengan dataset yang kecil.\n",
    "        \n",
    "        (https://ieeexplore.ieee.org/abstract/document/7863293)\n",
    "\n",
    "\n",
    "\n",
    "- Menggunakan early stopping callback"
   ]
  },
  {
   "cell_type": "code",
   "execution_count": 3,
   "metadata": {},
   "outputs": [
    {
     "name": "stdout",
     "output_type": "stream",
     "text": [
      "Found 9120 files belonging to 2 classes.\n",
      "Found 600 files belonging to 2 classes.\n",
      "Epoch 1/20\n",
      "285/285 [==============================] - 43s 145ms/step - loss: 0.7486 - accuracy: 0.6264 - val_loss: 0.5408 - val_accuracy: 0.7217\n",
      "Epoch 2/20\n",
      "285/285 [==============================] - 44s 149ms/step - loss: 0.4815 - accuracy: 0.7576 - val_loss: 0.5098 - val_accuracy: 0.7567\n",
      "Epoch 3/20\n",
      "285/285 [==============================] - 40s 139ms/step - loss: 0.4230 - accuracy: 0.7860 - val_loss: 0.4154 - val_accuracy: 0.7933\n",
      "Epoch 4/20\n",
      "285/285 [==============================] - 41s 140ms/step - loss: 0.3793 - accuracy: 0.8123 - val_loss: 0.3987 - val_accuracy: 0.8150\n",
      "Epoch 5/20\n",
      "285/285 [==============================] - 41s 140ms/step - loss: 0.3613 - accuracy: 0.8208 - val_loss: 0.3505 - val_accuracy: 0.8267\n",
      "Epoch 6/20\n",
      "285/285 [==============================] - 41s 141ms/step - loss: 0.3556 - accuracy: 0.8254 - val_loss: 0.3624 - val_accuracy: 0.8117\n",
      "Epoch 7/20\n",
      "285/285 [==============================] - 41s 142ms/step - loss: 0.3402 - accuracy: 0.8370 - val_loss: 0.3605 - val_accuracy: 0.8150\n",
      "Epoch 8/20\n",
      "285/285 [==============================] - 39s 135ms/step - loss: 0.3347 - accuracy: 0.8423 - val_loss: 0.3379 - val_accuracy: 0.8317\n",
      "Epoch 9/20\n",
      "285/285 [==============================] - 40s 139ms/step - loss: 0.3175 - accuracy: 0.8529 - val_loss: 0.3390 - val_accuracy: 0.8367\n",
      "Epoch 10/20\n",
      "285/285 [==============================] - 41s 142ms/step - loss: 0.3166 - accuracy: 0.8534 - val_loss: 0.3417 - val_accuracy: 0.8467\n",
      "Epoch 11/20\n",
      "285/285 [==============================] - 41s 142ms/step - loss: 0.3105 - accuracy: 0.8547 - val_loss: 0.3193 - val_accuracy: 0.8533\n",
      "Epoch 12/20\n",
      "285/285 [==============================] - 39s 134ms/step - loss: 0.3053 - accuracy: 0.8550 - val_loss: 0.3523 - val_accuracy: 0.8367\n",
      "Epoch 13/20\n",
      "285/285 [==============================] - 40s 137ms/step - loss: 0.3046 - accuracy: 0.8628 - val_loss: 0.3512 - val_accuracy: 0.8517\n",
      "Epoch 14/20\n",
      "285/285 [==============================] - 40s 139ms/step - loss: 0.2879 - accuracy: 0.8702 - val_loss: 0.3229 - val_accuracy: 0.8467\n",
      "Epoch 15/20\n",
      "285/285 [==============================] - 47s 164ms/step - loss: 0.2881 - accuracy: 0.8680 - val_loss: 0.3342 - val_accuracy: 0.8333\n",
      "Epoch 16/20\n",
      "285/285 [==============================] - 39s 136ms/step - loss: 0.2763 - accuracy: 0.8785 - val_loss: 0.3356 - val_accuracy: 0.8533\n",
      "Epoch 17/20\n",
      "285/285 [==============================] - 40s 137ms/step - loss: 0.2720 - accuracy: 0.8775 - val_loss: 0.3425 - val_accuracy: 0.8400\n",
      "Epoch 18/20\n",
      "285/285 [==============================] - 41s 141ms/step - loss: 0.2696 - accuracy: 0.8839 - val_loss: 0.3166 - val_accuracy: 0.8517\n",
      "Epoch 19/20\n",
      "285/285 [==============================] - 40s 137ms/step - loss: 0.2659 - accuracy: 0.8846 - val_loss: 0.3451 - val_accuracy: 0.8217\n",
      "Epoch 20/20\n",
      "285/285 [==============================] - 41s 142ms/step - loss: 0.2602 - accuracy: 0.8864 - val_loss: 0.3124 - val_accuracy: 0.8517\n"
     ]
    },
    {
     "data": {
      "text/plain": [
       "<AxesSubplot:>"
      ]
     },
     "execution_count": 3,
     "metadata": {},
     "output_type": "execute_result"
    },
    {
     "data": {
      "image/png": "[encoded data removed]",
      "text/plain": [
       "<Figure size 432x288 with 1 Axes>"
      ]
     },
     "metadata": {
      "needs_background": "light"
     },
     "output_type": "display_data"
    }
   ],
   "source": [
    "training_set = tensorflow.keras.preprocessing.image_dataset_from_directory(\n",
    "    \"/home/internet/itb/pattern_recognition/training_set\",\n",
    "    seed=101,\n",
    "    image_size=(100, 100),\n",
    "    batch_size=32\n",
    ")\n",
    "validation_set = tensorflow.keras.preprocessing.image_dataset_from_directory(\n",
    "    \"/home/internet/itb/pattern_recognition/validation_set\",\n",
    "    seed=101,\n",
    "    image_size=(100, 100),\n",
    "    batch_size=32\n",
    ")\n",
    "\n",
    "# add early stopping callback\n",
    "from tensorflow.keras.callbacks import EarlyStopping\n",
    "callbacks = [\n",
    "  EarlyStopping(monitor='loss', patience=3),\n",
    "]\n",
    "\n",
    "model = models.Sequential(\n",
    "  [\n",
    "    layers.Conv2D(8, (3, 3), activation=\"relu\", padding=\"same\", input_shape=(100, 100, 3)),\n",
    "    layers.MaxPooling2D((2, 2)),\n",
    "    # add dropout layers\n",
    "    layers.Dropout(0.1),\n",
    "\n",
    "    layers.Conv2D(32, (3, 3), activation=\"relu\", padding=\"same\"),\n",
    "    layers.MaxPooling2D((2, 2)),\n",
    "    layers.Dropout(0.1),\n",
    "\n",
    "    layers.Conv2D(64, (3, 3), activation=\"relu\", padding=\"same\"),\n",
    "    layers.MaxPooling2D((2, 2)),\n",
    "    layers.Dropout(0.1),\n",
    "\n",
    "    layers.Conv2D(128, (3, 3), activation=\"relu\", padding=\"same\"),\n",
    "    layers.MaxPooling2D((2, 2)),\n",
    "    layers.Dropout(0.1),\n",
    "\n",
    "    layers.Flatten(),\n",
    "    layers.Dense(64, activation=\"relu\"),\n",
    "    layers.Dropout(0.25),\n",
    "\n",
    "    layers.Dense(10, activation=\"relu\"),\n",
    "    layers.Dense(1, activation=\"sigmoid\")\n",
    "  ],\n",
    "  name=\"Model\"\n",
    ")\n",
    "\n",
    "model.compile(\n",
    "    optimizer='adam',\n",
    "    loss=\"binary_crossentropy\",\n",
    "    metrics=['accuracy']\n",
    ")\n",
    "\n",
    "history = model.fit(training_set,validation_data=validation_set, epochs=20, callbacks=callbacks)\n",
    "metrics_df = pd.DataFrame(history.history)\n",
    "metrics_df[[\"accuracy\",\"val_accuracy\"]].plot()"
   ]
  },
  {
   "cell_type": "markdown",
   "metadata": {},
   "source": [
    "Terlihat bahwa overfit sudah bisa dikendalikan.\n",
    "\n",
    "Perhatikan bahwa tren accuracy masih naik mengikuti besar epoch, berarti sebenarnya nilai accuracy dari training set dan validation set seharusnya bisa lebih baik lagi dengan menaikkan besarnya epoch."
   ]
  },
  {
   "cell_type": "markdown",
   "metadata": {},
   "source": [
    "Disini kami mencoba menambahkan besar matrix pada conv layer pertama (untuk penangkapan feature key lebih baik dalam Convolutional layer) dan penambahan layer pada step Fully Connected layernya."
   ]
  },
  {
   "cell_type": "code",
   "execution_count": 4,
   "metadata": {},
   "outputs": [
    {
     "name": "stdout",
     "output_type": "stream",
     "text": [
      "Found 9120 files belonging to 2 classes.\n",
      "Found 600 files belonging to 2 classes.\n",
      "Epoch 1/20\n",
      "285/285 [==============================] - 50s 169ms/step - loss: 0.8088 - accuracy: 0.6412 - val_loss: 0.6060 - val_accuracy: 0.6500\n",
      "Epoch 2/20\n",
      "285/285 [==============================] - 47s 161ms/step - loss: 0.4722 - accuracy: 0.7566 - val_loss: 0.5008 - val_accuracy: 0.7267\n",
      "Epoch 3/20\n",
      "285/285 [==============================] - 46s 159ms/step - loss: 0.4305 - accuracy: 0.7796 - val_loss: 0.4566 - val_accuracy: 0.7650\n",
      "Epoch 4/20\n",
      "285/285 [==============================] - 47s 161ms/step - loss: 0.3978 - accuracy: 0.8010 - val_loss: 0.3997 - val_accuracy: 0.8233\n",
      "Epoch 5/20\n",
      "285/285 [==============================] - 46s 159ms/step - loss: 0.3771 - accuracy: 0.8179 - val_loss: 0.3956 - val_accuracy: 0.7950\n",
      "Epoch 6/20\n",
      "285/285 [==============================] - 49s 169ms/step - loss: 0.3692 - accuracy: 0.8204 - val_loss: 0.3911 - val_accuracy: 0.7883\n",
      "Epoch 7/20\n",
      "285/285 [==============================] - 50s 173ms/step - loss: 0.3594 - accuracy: 0.8231 - val_loss: 0.3921 - val_accuracy: 0.8000\n",
      "Epoch 8/20\n",
      "285/285 [==============================] - 51s 175ms/step - loss: 0.3539 - accuracy: 0.8331 - val_loss: 0.4121 - val_accuracy: 0.7600\n",
      "Epoch 9/20\n",
      "285/285 [==============================] - 50s 173ms/step - loss: 0.3370 - accuracy: 0.8395 - val_loss: 0.3930 - val_accuracy: 0.8033\n",
      "Epoch 10/20\n",
      "285/285 [==============================] - 50s 172ms/step - loss: 0.3448 - accuracy: 0.8330 - val_loss: 0.3731 - val_accuracy: 0.8250\n",
      "Epoch 11/20\n",
      "285/285 [==============================] - 46s 160ms/step - loss: 0.3340 - accuracy: 0.8423 - val_loss: 0.3566 - val_accuracy: 0.8050\n",
      "Epoch 12/20\n",
      "285/285 [==============================] - 45s 156ms/step - loss: 0.3285 - accuracy: 0.8457 - val_loss: 0.3700 - val_accuracy: 0.8233\n",
      "Epoch 13/20\n",
      "285/285 [==============================] - 45s 157ms/step - loss: 0.3223 - accuracy: 0.8508 - val_loss: 0.3514 - val_accuracy: 0.8200\n",
      "Epoch 14/20\n",
      "285/285 [==============================] - 48s 165ms/step - loss: 0.3169 - accuracy: 0.8510 - val_loss: 0.3920 - val_accuracy: 0.8217\n",
      "Epoch 15/20\n",
      "285/285 [==============================] - 46s 159ms/step - loss: 0.3181 - accuracy: 0.8505 - val_loss: 0.3729 - val_accuracy: 0.8167\n",
      "Epoch 16/20\n",
      "285/285 [==============================] - 46s 158ms/step - loss: 0.3102 - accuracy: 0.8571 - val_loss: 0.3627 - val_accuracy: 0.8033\n",
      "Epoch 17/20\n",
      "285/285 [==============================] - 46s 159ms/step - loss: 0.3091 - accuracy: 0.8543 - val_loss: 0.3563 - val_accuracy: 0.8233\n",
      "Epoch 18/20\n",
      "285/285 [==============================] - 49s 168ms/step - loss: 0.3083 - accuracy: 0.8562 - val_loss: 0.3538 - val_accuracy: 0.8233\n",
      "Epoch 19/20\n",
      "285/285 [==============================] - 47s 161ms/step - loss: 0.3035 - accuracy: 0.8600 - val_loss: 0.3648 - val_accuracy: 0.8267\n",
      "Epoch 20/20\n",
      "285/285 [==============================] - 46s 158ms/step - loss: 0.2976 - accuracy: 0.8657 - val_loss: 0.3457 - val_accuracy: 0.8450\n"
     ]
    },
    {
     "data": {
      "text/plain": [
       "<AxesSubplot:>"
      ]
     },
     "execution_count": 4,
     "metadata": {},
     "output_type": "execute_result"
    },
    {
     "data": {
      "image/png": "[encoded data removed]",
      "text/plain": [
       "<Figure size 432x288 with 1 Axes>"
      ]
     },
     "metadata": {
      "needs_background": "light"
     },
     "output_type": "display_data"
    }
   ],
   "source": [
    "training_set = tensorflow.keras.preprocessing.image_dataset_from_directory(\n",
    "    \"/home/internet/itb/pattern_recognition/training_set\",\n",
    "    seed=101,\n",
    "    image_size=(100, 100),\n",
    "    batch_size=32\n",
    ")\n",
    "validation_set = tensorflow.keras.preprocessing.image_dataset_from_directory(\n",
    "    \"/home/internet/itb/pattern_recognition/validation_set\",\n",
    "    seed=101,\n",
    "    image_size=(100, 100),\n",
    "    batch_size=32\n",
    ")\n",
    "\n",
    "from tensorflow.keras.callbacks import EarlyStopping\n",
    "callbacks = [\n",
    "  EarlyStopping(monitor='loss', patience=3),\n",
    "]\n",
    "\n",
    "model = models.Sequential(\n",
    "  [\n",
    "    layers.Conv2D(16, (3, 3), activation=\"relu\", padding=\"same\", input_shape=(100, 100, 3)),\n",
    "    layers.MaxPooling2D((2, 2)),\n",
    "    layers.Dropout(0.1),\n",
    "\n",
    "    layers.Conv2D(32, (3, 3), activation=\"relu\", padding=\"same\"),\n",
    "    layers.MaxPooling2D((2, 2)),\n",
    "    layers.Dropout(0.1),\n",
    "\n",
    "    layers.Conv2D(64, (3, 3), activation=\"relu\", padding=\"same\"),\n",
    "    layers.MaxPooling2D((2, 2)),\n",
    "    layers.Dropout(0.1),\n",
    "\n",
    "    layers.Conv2D(128, (3, 3), activation=\"relu\", padding=\"same\"),\n",
    "    layers.MaxPooling2D((2, 2)),\n",
    "    layers.Dropout(0.1),\n",
    "\n",
    "    layers.Flatten(),\n",
    "    layers.Dense(64, activation=\"relu\"),\n",
    "    layers.Dropout(0.25),\n",
    "\n",
    "    layers.Dense(32, activation=\"relu\"),\n",
    "    layers.Dropout(0.25),\n",
    "\n",
    "    layers.Dense(16, activation=\"relu\"),\n",
    "    layers.Dense(1, activation=\"sigmoid\")\n",
    "  ],\n",
    "  name=\"Model\"\n",
    ")\n",
    "\n",
    "model.compile(\n",
    "    optimizer='adam',\n",
    "    loss=\"binary_crossentropy\",\n",
    "    metrics=['accuracy']\n",
    ")\n",
    "\n",
    "history = model.fit(training_set,validation_data=validation_set, epochs=20, callbacks=callbacks)\n",
    "metrics_df = pd.DataFrame(history.history)\n",
    "metrics_df[[\"accuracy\",\"val_accuracy\"]].plot()"
   ]
  },
  {
   "cell_type": "markdown",
   "metadata": {},
   "source": [
    "Ternyata tidak menghasilkan akurasi yang lebih baik dari sebelumnya."
   ]
  },
  {
   "cell_type": "markdown",
   "metadata": {},
   "source": [
    "# IV Analisis\n",
    "\n",
    "Dari tiga percobaan di atas, terlihat bahwa CNN belum mampu memberikan akurasi yang lebih baik dari dua metode lainnya.\n",
    "\n",
    "Hal ini dikarenakan:\n",
    "- Melihat grafik akurasi terhadap epoch, terlihat bahwa akurasi masih dapat meningkat seiring bertambahnya epoch. Epoch yang digunakan sangat kecil (hanya 10 dan 20 epoch, sementara fully connected model menggunakan 200 epoch). Kami tidak bisa mencoba menggunakan epoch yang besar karena keterbatasan resource. \n",
    "- Dataset yang digunakan sangat kecil. Dataset yang kami miliki tidak sampai sepuluh ribu data. Dan, di dalam dataset ini, sangat banyak data yang mirip (karena dataset dibangun dari video yang diclip frame nya)."
   ]
  },
  {
   "cell_type": "markdown",
   "metadata": {},
   "source": [
    "-----------"
   ]
  },
  {
   "cell_type": "markdown",
   "metadata": {},
   "source": [
    "Link Video:\n",
    "\n",
    "https://drive.google.com/file/d/1ygTtCteJUjAWaPSyeCCYyoJJ-Ybvdywv/view?usp=sharing"
   ]
  },
  {
   "cell_type": "code",
   "execution_count": null,
   "metadata": {},
   "outputs": [],
   "source": []
  }
 ],
 "metadata": {
  "interpreter": {
   "hash": "31f2aee4e71d21fbe5cf8b01ff0e069b9275f58929596ceb00d14d90e3e16cd6"
  },
  "kernelspec": {
   "display_name": "Python 3.8.10 64-bit",
   "language": "python",
   "name": "python3"
  },
  "language_info": {
   "codemirror_mode": {
    "name": "ipython",
    "version": 3
   },
   "file_extension": ".py",
   "mimetype": "text/x-python",
   "name": "python",
   "nbconvert_exporter": "python",
   "pygments_lexer": "ipython3",
   "version": "3.8.10"
  },
  "orig_nbformat": 4
 },
 "nbformat": 4,
 "nbformat_minor": 2
}
