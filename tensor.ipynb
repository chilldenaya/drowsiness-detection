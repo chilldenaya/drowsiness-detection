{
 "cells": [
  {
   "cell_type": "markdown",
   "metadata": {},
   "source": [
    "# \"Image-based Driver Drowsiness Classification using Neural Network\"\n",
    "\n",
    "## Tugas Besar IF5181 - Pengenalan Pola\n",
    "\n",
    "23521027 - Kadek Denaya Rahadika\n",
    "\n",
    "23521037 - Krisna Fathurahman\n",
    "\n",
    "---\n",
    "\n",
    "## Spesifikasi Soal\n",
    "\n",
    "1. Gunakanlah dataset klasifikasi yang sudah dieksplorasi, berikanlah deskripsi dari minimal 3 model terbaik yang sudah ada dari studi literatur dalam 3 tahun terakhir untuk dataset tersebut.\n",
    "\n",
    "2. Tuliskan desain eksperimen, dengan mencantumkan:\n",
    "a. faktor apa yang diobservasi, variabel response yang digunakan, dan skenario eksperimen yang dilakukan. Teknik learning yang digunakan minimal menggunakan teknik yang dipelajari di kuliah (minimal DTL dan ANN).\n",
    "b. skema eksperimen (terutama terkait data latih, validasi, dan tes) dan komposisi data sesuai skema tersebut.\n",
    "\n",
    "3. Tuliskan hasil eksperimen dan analisisnya. Analisis dapat berupa perbandingan antar model, atau memberikan contoh error atau kasus penting yg perlu diobservasi, atau interpretasi hasil eksperimen berbasiskan statistik.\n",
    "\n",
    "4. Pengumpulan tugas berupa notebook ipynb yang dilengkapi dengan rekap hasil eksperimen pada notebook tersebut.\n",
    "\n",
    "5. Setiap kelompok akan mempresentasikan hasilnya pada Selasa 30 November 2021 dan Kamis 2 Desember, dan menyiapkan juga dalam bentuk video maksimum selama 10 menit (jika ada problem koneksi nantinya). Tuliskan link video pada bagian akhir notebook.\n",
    "\n",
    "---"
   ]
  },
  {
   "cell_type": "markdown",
   "metadata": {},
   "source": [
    "## I. Latar Belakang\n",
    "\n",
    "Kelompok kami akan menggunakan dataset berupa gambar wajah manusia berlabel *drowsy* atau *not drowsy* pada pranala berikut ini yang didapatkan dari situs kaggle.com. Adapun fitur-fitur yang dapat diambil dari dataset tersebut antara lain:\n",
    "\n",
    "*   Wajah\n",
    "*   Orientasi wajah\n",
    "*   Mata\n",
    "*   Mulut\n",
    "\n",
    "Target kelas dari permasalahan ini berupa single-class yang bernilai antara ***drowsy*** atau ***not drowsy***\n",
    "\n",
    "## II.1. Desain Eksperimen\n",
    "\n",
    "Dalam eksperimen ini, kami akan membandingkan model lain dengan model utama yang akan dieksplor, yaitu CNN yang kami bangun sendiri. Setelah itu, kita akan lihat bagaimana proses Transfer Learning juga dapat membantu proses pembuatan model. Model yang akan kami gunakan dalam Tranfer Learning adalah ResNet152.  \n",
    "\n",
    "Dalam mengevaluasi model, kami menggunakan validation set yang sebelumnya sudah kami tetapkan dan dibangun secara random dari training set yang ada. Performance measure yang digunakan adalah akurasi."
   ]
  },
  {
   "cell_type": "markdown",
   "metadata": {},
   "source": [
    "# II. Percobaan sebelumnya\n",
    "\n",
    "## II.1. Decision Tree Learning\n",
    "\n",
    "## II.2. Fully Connected NN"
   ]
  },
  {
   "cell_type": "markdown",
   "metadata": {},
   "source": [
    "# III. Percobaan Utama -- CNN"
   ]
  },
  {
   "cell_type": "markdown",
   "metadata": {},
   "source": []
  },
  {
   "cell_type": "markdown",
   "metadata": {},
   "source": [
    "### Mencoba menggunakan data yang dibangun menjadi berukuran 64x64x3"
   ]
  },
  {
   "cell_type": "code",
   "execution_count": 1,
   "metadata": {},
   "outputs": [
    {
     "name": "stdout",
     "output_type": "stream",
     "text": [
      "Found 9120 files belonging to 2 classes.\n",
      "Found 106 files belonging to 2 classes.\n"
     ]
    }
   ],
   "source": [
    "import tensorflow\n",
    "\n",
    "training_set = tensorflow.keras.preprocessing.image_dataset_from_directory(\n",
    "    \"/home/internet/itb/pattern_recognition/training_set\",\n",
    "    seed=101,\n",
    "    image_size=(64, 64),\n",
    "    batch_size=32\n",
    ")\n",
    "validation_set = tensorflow.keras.preprocessing.image_dataset_from_directory(\n",
    "    \"/home/internet/itb/pattern_recognition/validation_set\",\n",
    "    seed=101,\n",
    "    image_size=(64, 64),\n",
    "    batch_size=32\n",
    ")"
   ]
  },
  {
   "cell_type": "code",
   "execution_count": 23,
   "metadata": {},
   "outputs": [
    {
     "data": {
      "text/plain": [
       "['drowsy', 'not_drowsy']"
      ]
     },
     "execution_count": 23,
     "metadata": {},
     "output_type": "execute_result"
    }
   ],
   "source": [
    "training_set.class_names"
   ]
  },
  {
   "cell_type": "markdown",
   "metadata": {},
   "source": [
    "### Base Model\n",
    "\n",
    "Berikut merupakan base model yang kami gunakan"
   ]
  },
  {
   "cell_type": "code",
   "execution_count": 2,
   "metadata": {},
   "outputs": [],
   "source": [
    "from tensorflow.keras import layers, models\n",
    "\n",
    "model = models.Sequential(\n",
    "  [\n",
    "    layers.Conv2D(8, (3, 3), activation=\"relu\", padding=\"same\", input_shape=(64, 64, 3)),\n",
    "    layers.MaxPooling2D((2, 2)),\n",
    "    layers.Conv2D(32, (3, 3), activation=\"relu\", padding=\"same\"),\n",
    "    layers.MaxPooling2D((2, 2)),\n",
    "    layers.Conv2D(64, (3, 3), activation=\"relu\", padding=\"same\"),\n",
    "    layers.MaxPooling2D((2, 2)),\n",
    "    layers.Conv2D(128, (3, 3), activation=\"relu\", padding=\"same\"),\n",
    "    layers.Flatten(),\n",
    "    layers.Dense(64, activation=\"relu\"),\n",
    "    layers.Dense(10, activation=\"relu\"),\n",
    "    layers.Dense(1, activation=\"sigmoid\")\n",
    "  ],\n",
    "  name=\"Model\"\n",
    ")"
   ]
  },
  {
   "cell_type": "code",
   "execution_count": 25,
   "metadata": {},
   "outputs": [
    {
     "name": "stdout",
     "output_type": "stream",
     "text": [
      "Model: \"Model\"\n",
      "_________________________________________________________________\n",
      " Layer (type)                Output Shape              Param #   \n",
      "=================================================================\n",
      " conv2d_24 (Conv2D)          (None, 64, 64, 8)         224       \n",
      "                                                                 \n",
      " max_pooling2d_18 (MaxPoolin  (None, 32, 32, 8)        0         \n",
      " g2D)                                                            \n",
      "                                                                 \n",
      " conv2d_25 (Conv2D)          (None, 32, 32, 32)        2336      \n",
      "                                                                 \n",
      " max_pooling2d_19 (MaxPoolin  (None, 16, 16, 32)       0         \n",
      " g2D)                                                            \n",
      "                                                                 \n",
      " conv2d_26 (Conv2D)          (None, 16, 16, 64)        18496     \n",
      "                                                                 \n",
      " max_pooling2d_20 (MaxPoolin  (None, 8, 8, 64)         0         \n",
      " g2D)                                                            \n",
      "                                                                 \n",
      " conv2d_27 (Conv2D)          (None, 8, 8, 128)         73856     \n",
      "                                                                 \n",
      " flatten_6 (Flatten)         (None, 8192)              0         \n",
      "                                                                 \n",
      " dense_18 (Dense)            (None, 64)                524352    \n",
      "                                                                 \n",
      " dense_19 (Dense)            (None, 10)                650       \n",
      "                                                                 \n",
      " dense_20 (Dense)            (None, 1)                 11        \n",
      "                                                                 \n",
      "=================================================================\n",
      "Total params: 619,925\n",
      "Trainable params: 619,925\n",
      "Non-trainable params: 0\n",
      "_________________________________________________________________\n"
     ]
    }
   ],
   "source": [
    "model.summary()"
   ]
  },
  {
   "cell_type": "code",
   "execution_count": 26,
   "metadata": {},
   "outputs": [],
   "source": [
    "model.compile(\n",
    "    optimizer='adam',\n",
    "    loss=\"binary_crossentropy\",\n",
    "    metrics=['accuracy']\n",
    ")"
   ]
  },
  {
   "cell_type": "code",
   "execution_count": 27,
   "metadata": {},
   "outputs": [
    {
     "name": "stdout",
     "output_type": "stream",
     "text": [
      "Epoch 1/10\n",
      "285/285 [==============================] - 30s 103ms/step - loss: 1.2963 - accuracy: 0.5002 - val_loss: 0.6912 - val_accuracy: 0.6981\n",
      "Epoch 2/10\n",
      "285/285 [==============================] - 28s 97ms/step - loss: 0.6932 - accuracy: 0.4965 - val_loss: 0.6919 - val_accuracy: 0.6981\n",
      "Epoch 3/10\n",
      "285/285 [==============================] - 29s 101ms/step - loss: 0.6932 - accuracy: 0.4936 - val_loss: 0.6924 - val_accuracy: 0.6981\n",
      "Epoch 4/10\n",
      "285/285 [==============================] - 30s 105ms/step - loss: 0.6932 - accuracy: 0.4976 - val_loss: 0.6928 - val_accuracy: 0.6981\n",
      "Epoch 5/10\n",
      "285/285 [==============================] - 32s 110ms/step - loss: 0.6932 - accuracy: 0.4954 - val_loss: 0.6927 - val_accuracy: 0.6981\n",
      "Epoch 6/10\n",
      "285/285 [==============================] - 31s 106ms/step - loss: 0.6932 - accuracy: 0.4967 - val_loss: 0.6927 - val_accuracy: 0.6981\n",
      "Epoch 7/10\n",
      "285/285 [==============================] - 30s 102ms/step - loss: 0.6932 - accuracy: 0.4954 - val_loss: 0.6933 - val_accuracy: 0.3019\n",
      "Epoch 8/10\n",
      "285/285 [==============================] - 29s 100ms/step - loss: 0.6932 - accuracy: 0.4934 - val_loss: 0.6930 - val_accuracy: 0.6981\n",
      "Epoch 9/10\n",
      "285/285 [==============================] - 30s 104ms/step - loss: 0.6932 - accuracy: 0.4974 - val_loss: 0.6931 - val_accuracy: 0.6981\n",
      "Epoch 10/10\n",
      "285/285 [==============================] - 29s 101ms/step - loss: 0.6932 - accuracy: 0.4936 - val_loss: 0.6929 - val_accuracy: 0.6981\n"
     ]
    }
   ],
   "source": [
    "history = model.fit(training_set,validation_data=validation_set, epochs=10)"
   ]
  },
  {
   "cell_type": "code",
   "execution_count": 3,
   "metadata": {},
   "outputs": [
    {
     "data": {
      "text/plain": [
       "<AxesSubplot:>"
      ]
     },
     "execution_count": 28,
     "metadata": {},
     "output_type": "execute_result"
    },
    {
     "data": {
      "image/png": "[encoded data removed]",
      "text/plain": [
       "<Figure size 432x288 with 1 Axes>"
      ]
     },
     "metadata": {
      "needs_background": "light"
     },
     "output_type": "display_data"
    }
   ],
   "source": [
    "import pandas as pd\n",
    "\n",
    "metrics_df = pd.DataFrame(history.history)\n",
    "metrics_df[[\"loss\",\"val_loss\"]].plot()"
   ]
  },
  {
   "cell_type": "markdown",
   "metadata": {},
   "source": []
  },
  {
   "cell_type": "code",
   "execution_count": 29,
   "metadata": {},
   "outputs": [
    {
     "data": {
      "text/plain": [
       "<AxesSubplot:>"
      ]
     },
     "execution_count": 29,
     "metadata": {},
     "output_type": "execute_result"
    },
    {
     "data": {
      "image/png": "[encoded data removed]",
      "text/plain": [
       "<Figure size 432x288 with 1 Axes>"
      ]
     },
     "metadata": {
      "needs_background": "light"
     },
     "output_type": "display_data"
    }
   ],
   "source": [
    "metrics_df[[\"accuracy\",\"val_accuracy\"]].plot()"
   ]
  },
  {
   "cell_type": "markdown",
   "metadata": {},
   "source": [
    "Model terlihat belum dapat 'melihat' feature map dari dalam training data, diperlihatkan dari tidak adanya perkembangan di tiap epoch nya.\n",
    "\n",
    "Kita akan mencoba menggunakan pixel yang lebih besar."
   ]
  },
  {
   "cell_type": "markdown",
   "metadata": {},
   "source": [
    "### Mencoba menggunakan data yang dibangun menjadi berukuran 200x200x3"
   ]
  },
  {
   "cell_type": "code",
   "execution_count": 30,
   "metadata": {},
   "outputs": [
    {
     "name": "stdout",
     "output_type": "stream",
     "text": [
      "Found 9120 files belonging to 2 classes.\n",
      "Found 106 files belonging to 2 classes.\n",
      "Epoch 1/10\n",
      "285/285 [==============================] - 124s 432ms/step - loss: 1.3526 - accuracy: 0.7873 - val_loss: 0.7156 - val_accuracy: 0.8396\n",
      "Epoch 2/10\n",
      "285/285 [==============================] - 131s 458ms/step - loss: 0.3345 - accuracy: 0.8440 - val_loss: 0.7282 - val_accuracy: 0.7830\n",
      "Epoch 3/10\n",
      "285/285 [==============================] - 127s 442ms/step - loss: 0.3080 - accuracy: 0.8546 - val_loss: 0.6611 - val_accuracy: 0.7547\n",
      "Epoch 4/10\n",
      "285/285 [==============================] - 116s 406ms/step - loss: 0.2934 - accuracy: 0.8674 - val_loss: 0.7368 - val_accuracy: 0.7453\n",
      "Epoch 5/10\n",
      "285/285 [==============================] - 113s 393ms/step - loss: 0.2726 - accuracy: 0.8747 - val_loss: 0.8130 - val_accuracy: 0.7264\n",
      "Epoch 6/10\n",
      "285/285 [==============================] - 115s 400ms/step - loss: 0.2603 - accuracy: 0.8819 - val_loss: 0.8577 - val_accuracy: 0.6321\n",
      "Epoch 7/10\n",
      "285/285 [==============================] - 113s 395ms/step - loss: 0.2477 - accuracy: 0.8870 - val_loss: 0.8366 - val_accuracy: 0.7264\n",
      "Epoch 8/10\n",
      "285/285 [==============================] - 114s 398ms/step - loss: 0.2373 - accuracy: 0.8924 - val_loss: 1.0211 - val_accuracy: 0.6415\n",
      "Epoch 9/10\n",
      "285/285 [==============================] - 114s 399ms/step - loss: 0.2262 - accuracy: 0.9005 - val_loss: 0.9607 - val_accuracy: 0.6887\n",
      "Epoch 10/10\n",
      "285/285 [==============================] - 117s 408ms/step - loss: 0.2172 - accuracy: 0.9033 - val_loss: 1.2185 - val_accuracy: 0.6792\n"
     ]
    },
    {
     "data": {
      "text/plain": [
       "<AxesSubplot:>"
      ]
     },
     "execution_count": 30,
     "metadata": {},
     "output_type": "execute_result"
    },
    {
     "data": {
      "image/png": "[encoded data removed]",
      "text/plain": [
       "<Figure size 432x288 with 1 Axes>"
      ]
     },
     "metadata": {
      "needs_background": "light"
     },
     "output_type": "display_data"
    },
    {
     "data": {
      "image/png": "[encoded data removed]",
      "text/plain": [
       "<Figure size 432x288 with 1 Axes>"
      ]
     },
     "metadata": {
      "needs_background": "light"
     },
     "output_type": "display_data"
    }
   ],
   "source": [
    "training_set = tensorflow.keras.preprocessing.image_dataset_from_directory(\n",
    "    \"/home/internet/itb/pattern_recognition/training_set\",\n",
    "    seed=101,\n",
    "    image_size=(200, 200),\n",
    "    batch_size=32\n",
    ")\n",
    "validation_set = tensorflow.keras.preprocessing.image_dataset_from_directory(\n",
    "    \"/home/internet/itb/pattern_recognition/validation_set\",\n",
    "    seed=101,\n",
    "    image_size=(200, 200),\n",
    "    batch_size=32\n",
    ")\n",
    "\n",
    "\n",
    "model = models.Sequential(\n",
    "  [\n",
    "    layers.Conv2D(8, (3, 3), activation=\"relu\", padding=\"same\", input_shape=(200, 200, 3)),\n",
    "    layers.MaxPooling2D((2, 2)),\n",
    "    layers.Conv2D(32, (3, 3), activation=\"relu\", padding=\"same\"),\n",
    "    layers.MaxPooling2D((2, 2)),\n",
    "    layers.Conv2D(64, (3, 3), activation=\"relu\", padding=\"same\"),\n",
    "    layers.MaxPooling2D((2, 2)),\n",
    "    layers.Conv2D(128, (3, 3), activation=\"relu\", padding=\"same\"),\n",
    "    layers.Flatten(),\n",
    "    layers.Dense(64, activation=\"relu\"),\n",
    "    layers.Dense(10, activation=\"relu\"),\n",
    "    layers.Dense(1, activation=\"sigmoid\")\n",
    "  ],\n",
    "  name=\"Model\"\n",
    ")\n",
    "\n",
    "model.compile(\n",
    "    optimizer='adam',\n",
    "    loss=\"binary_crossentropy\",\n",
    "    metrics=['accuracy']\n",
    ")\n",
    "\n",
    "history = model.fit(training_set,validation_data=validation_set, epochs=10)\n",
    "metrics_df = pd.DataFrame(history.history)\n",
    "metrics_df[[\"loss\",\"val_loss\"]].plot()\n",
    "metrics_df[[\"accuracy\",\"val_accuracy\"]].plot()"
   ]
  },
  {
   "cell_type": "markdown",
   "metadata": {},
   "source": [
    "Dengan pixel yang lebih besar, terlihat training accuracy sudah meningkat seiring berjalannya training.\n",
    "\n",
    "Namun, permasalahan baru muncul, yaitu overfitting terhadap validation set."
   ]
  },
  {
   "cell_type": "markdown",
   "metadata": {},
   "source": [
    "### Pencegahan Overfitting\n",
    "\n",
    "- Menambahkan Dropout Layer untuk mengurangi network complexity\n",
    "- Menggunakan early stopping callback"
   ]
  },
  {
   "cell_type": "code",
   "execution_count": 5,
   "metadata": {},
   "outputs": [
    {
     "name": "stdout",
     "output_type": "stream",
     "text": [
      "Found 9120 files belonging to 2 classes.\n",
      "Found 106 files belonging to 2 classes.\n",
      "Epoch 1/10\n",
      "285/285 [==============================] - 133s 463ms/step - loss: 0.6087 - accuracy: 0.6729 - val_loss: 0.7703 - val_accuracy: 0.5377\n",
      "Epoch 2/10\n",
      "285/285 [==============================] - 123s 427ms/step - loss: 0.3666 - accuracy: 0.8297 - val_loss: 0.7826 - val_accuracy: 0.6038\n",
      "Epoch 3/10\n",
      "285/285 [==============================] - 119s 417ms/step - loss: 0.3297 - accuracy: 0.8481 - val_loss: 0.8357 - val_accuracy: 0.5377\n",
      "Epoch 4/10\n",
      "285/285 [==============================] - 130s 452ms/step - loss: 0.3069 - accuracy: 0.8610 - val_loss: 0.7791 - val_accuracy: 0.5283\n",
      "Epoch 5/10\n",
      "285/285 [==============================] - 121s 421ms/step - loss: 0.2905 - accuracy: 0.8703 - val_loss: 0.7901 - val_accuracy: 0.6604\n",
      "Epoch 6/10\n",
      "285/285 [==============================] - 114s 397ms/step - loss: 0.2810 - accuracy: 0.8682 - val_loss: 0.7741 - val_accuracy: 0.6415\n",
      "Epoch 7/10\n",
      "285/285 [==============================] - 110s 384ms/step - loss: 0.2597 - accuracy: 0.8850 - val_loss: 0.8874 - val_accuracy: 0.5943\n",
      "Epoch 8/10\n",
      "285/285 [==============================] - 119s 415ms/step - loss: 0.2502 - accuracy: 0.8889 - val_loss: 0.9209 - val_accuracy: 0.5943\n",
      "Epoch 9/10\n",
      "285/285 [==============================] - 128s 444ms/step - loss: 0.2373 - accuracy: 0.8918 - val_loss: 0.9722 - val_accuracy: 0.6415\n",
      "Epoch 10/10\n",
      "285/285 [==============================] - 131s 457ms/step - loss: 0.2273 - accuracy: 0.8971 - val_loss: 1.1257 - val_accuracy: 0.7170\n"
     ]
    },
    {
     "data": {
      "text/plain": [
       "<AxesSubplot:>"
      ]
     },
     "execution_count": 5,
     "metadata": {},
     "output_type": "execute_result"
    },
    {
     "data": {
      "image/png": "[encoded data removed]",
      "text/plain": [
       "<Figure size 432x288 with 1 Axes>"
      ]
     },
     "metadata": {
      "needs_background": "light"
     },
     "output_type": "display_data"
    }
   ],
   "source": [
    "training_set = tensorflow.keras.preprocessing.image_dataset_from_directory(\n",
    "    \"/home/internet/itb/pattern_recognition/training_set\",\n",
    "    seed=101,\n",
    "    image_size=(200, 200),\n",
    "    batch_size=32\n",
    ")\n",
    "validation_set = tensorflow.keras.preprocessing.image_dataset_from_directory(\n",
    "    \"/home/internet/itb/pattern_recognition/validation_set\",\n",
    "    seed=101,\n",
    "    image_size=(200, 200),\n",
    "    batch_size=32\n",
    ")\n",
    "\n",
    "# add early stopping callback\n",
    "from tensorflow.keras.callbacks import EarlyStopping\n",
    "callbacks = [\n",
    "  EarlyStopping(monitor='loss', patience=3),\n",
    "]\n",
    "\n",
    "model = models.Sequential(\n",
    "  [\n",
    "    layers.Conv2D(8, (3, 3), activation=\"relu\", padding=\"same\", input_shape=(200, 200, 3)),\n",
    "    layers.MaxPooling2D((2, 2)),\n",
    "    # add dropout layers\n",
    "    layers.Dropout(0.1),\n",
    "\n",
    "    layers.Conv2D(32, (3, 3), activation=\"relu\", padding=\"same\"),\n",
    "    layers.MaxPooling2D((2, 2)),\n",
    "    layers.Dropout(0.1),\n",
    "\n",
    "    layers.Conv2D(64, (3, 3), activation=\"relu\", padding=\"same\"),\n",
    "    layers.MaxPooling2D((2, 2)),\n",
    "    layers.Dropout(0.1),\n",
    "\n",
    "    layers.Conv2D(128, (3, 3), activation=\"relu\", padding=\"same\"),\n",
    "    layers.MaxPooling2D((2, 2)),\n",
    "    layers.Dropout(0.1),\n",
    "\n",
    "    layers.Flatten(),\n",
    "    layers.Dense(64, activation=\"relu\"),\n",
    "    layers.Dropout(0.25),\n",
    "\n",
    "    layers.Dense(10, activation=\"relu\"),\n",
    "    layers.Dense(1, activation=\"sigmoid\")\n",
    "  ],\n",
    "  name=\"Model\"\n",
    ")\n",
    "\n",
    "model.compile(\n",
    "    optimizer='adam',\n",
    "    loss=\"binary_crossentropy\",\n",
    "    metrics=['accuracy']\n",
    ")\n",
    "\n",
    "history = model.fit(training_set,validation_data=validation_set, epochs=10, callbacks=callbacks)\n",
    "metrics_df = pd.DataFrame(history.history)\n",
    "metrics_df[[\"accuracy\",\"val_accuracy\"]].plot()"
   ]
  },
  {
   "cell_type": "markdown",
   "metadata": {},
   "source": [
    "Terlihat bahwa overfit sudah bisa dikendalikan.\n",
    "\n",
    "Perhatikan bahwa tren accuracy masih naik mengikuti besar epoch, berarti sebenarnya nilai accuracy dari training set dan validation set seharusnya bisa lebih baik lagi dengan menaikkan besarnya epoch."
   ]
  },
  {
   "cell_type": "markdown",
   "metadata": {},
   "source": [
    "### Transfer Learning\n",
    "\n",
    "Sekarang, kita akan mencoba menggunakan model yang sudah biasa dipakai dalam image classification yaitu MobileNetV2.\n",
    "\n",
    "Proses transfer learning akan membuat model yang kita buat menjadi lebih cepat untuk ditrain, karena model MobileNetV2 sudah memiliki hyperparameter yang pretrained."
   ]
  },
  {
   "cell_type": "code",
   "execution_count": 8,
   "metadata": {},
   "outputs": [
    {
     "name": "stdout",
     "output_type": "stream",
     "text": [
      "Epoch 1/10\n"
     ]
    }
   ],
   "source": [
    "base_model = tensorflow.keras.applications.ResNet152(weights = 'imagenet', include_top = False, input_shape = (100,100,3))\n",
    "# nilai hyperparameter pada ResNet tidak akan kita train lagi dalam proses forward-backward\n",
    "base_model.trainable = False\n",
    "\n",
    "model = models.Sequential(\n",
    "    [\n",
    "        # menggantikan Convolutional Layer pada model sebelumnya\n",
    "        # dengan model yang sudah ada yaitu ResNet152\n",
    "        base_model,\n",
    "        layers.Flatten(),\n",
    "        layers.Dense(10, activation=\"relu\"),\n",
    "        layers.Dense(1, activation=\"sigmoid\")                                    \n",
    "    ]\n",
    ")\n",
    "model.compile(\n",
    "    optimizer='adam',\n",
    "    loss=\"binary_crossentropy\",\n",
    "    metrics=['accuracy']\n",
    ")\n",
    "model.fit(training_set,validation_data=validation_set, epochs=10)"
   ]
  },
  {
   "cell_type": "code",
   "execution_count": null,
   "metadata": {},
   "outputs": [],
   "source": []
  }
 ],
 "metadata": {
  "interpreter": {
   "hash": "31f2aee4e71d21fbe5cf8b01ff0e069b9275f58929596ceb00d14d90e3e16cd6"
  },
  "kernelspec": {
   "display_name": "Python 3.8.10 64-bit",
   "language": "python",
   "name": "python3"
  },
  "language_info": {
   "codemirror_mode": {
    "name": "ipython",
    "version": 3
   },
   "file_extension": ".py",
   "mimetype": "text/x-python",
   "name": "python",
   "nbconvert_exporter": "python",
   "pygments_lexer": "ipython3",
   "version": "3.8.10"
  },
  "orig_nbformat": 4
 },
 "nbformat": 4,
 "nbformat_minor": 2
}
