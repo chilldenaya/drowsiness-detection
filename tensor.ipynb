{
 "cells": [
  {
   "cell_type": "markdown",
   "metadata": {},
   "source": [
    "# \"Image-based Driver Drowsiness Classification using Neural Network\"\n",
    "\n",
    "## Tugas Besar IF5181 - Pengenalan Pola\n",
    "\n",
    "23521027 - Kadek Denaya Rahadika\n",
    "\n",
    "23521037 - Krisna Fathurahman\n",
    "\n",
    "---\n",
    "\n",
    "## Spesifikasi Soal\n",
    "\n",
    "1. Gunakanlah dataset klasifikasi yang sudah dieksplorasi, berikanlah deskripsi dari minimal 3 model terbaik yang sudah ada dari studi literatur dalam 3 tahun terakhir untuk dataset tersebut.\n",
    "\n",
    "2. Tuliskan desain eksperimen, dengan mencantumkan:\n",
    "a. faktor apa yang diobservasi, variabel response yang digunakan, dan skenario eksperimen yang dilakukan. Teknik learning yang digunakan minimal menggunakan teknik yang dipelajari di kuliah (minimal DTL dan ANN).\n",
    "b. skema eksperimen (terutama terkait data latih, validasi, dan tes) dan komposisi data sesuai skema tersebut.\n",
    "\n",
    "3. Tuliskan hasil eksperimen dan analisisnya. Analisis dapat berupa perbandingan antar model, atau memberikan contoh error atau kasus penting yg perlu diobservasi, atau interpretasi hasil eksperimen berbasiskan statistik.\n",
    "\n",
    "4. Pengumpulan tugas berupa notebook ipynb yang dilengkapi dengan rekap hasil eksperimen pada notebook tersebut.\n",
    "\n",
    "5. Setiap kelompok akan mempresentasikan hasilnya pada Selasa 30 November 2021 dan Kamis 2 Desember, dan menyiapkan juga dalam bentuk video maksimum selama 10 menit (jika ada problem koneksi nantinya). Tuliskan link video pada bagian akhir notebook.\n",
    "\n",
    "---"
   ]
  },
  {
   "cell_type": "markdown",
   "metadata": {},
   "source": [
    "## I. Latar Belakang\n",
    "\n",
    "Kelompok kami akan menggunakan dataset berupa gambar wajah manusia berlabel *drowsy* atau *not drowsy* pada pranala berikut ini yang didapatkan dari situs kaggle.com. Adapun fitur-fitur yang dapat diambil dari dataset tersebut antara lain:\n",
    "\n",
    "*   Wajah\n",
    "*   Orientasi wajah\n",
    "*   Mata\n",
    "*   Mulut\n",
    "\n",
    "Target kelas dari permasalahan ini berupa single-class yang bernilai antara ***drowsy*** atau ***not drowsy***\n",
    "\n",
    "## II.1. Desain Eksperimen\n",
    "\n",
    "Dalam eksperimen ini, kami akan membandingkan model lain dengan model utama yang akan dieksplor, yaitu CNN yang kami bangun sendiri.\n",
    "\n",
    "Dalam mengevaluasi model, kami menggunakan validation set yang sebelumnya sudah kami tetapkan dan dibangun secara random dari training set yang ada.\n",
    "Berikut merupakan komposisi data yang kami gunakan:\n",
    "- Training set:\n",
    "    - 4560 drowsy\n",
    "    - 4560 not_drowsy\n",
    "- Validation set:\n",
    "    - 300 drowsy\n",
    "    - 300 not_drowsy\n",
    "\n",
    "Performance measure yang digunakan adalah akurasi."
   ]
  },
  {
   "cell_type": "markdown",
   "metadata": {},
   "source": [
    "# II. Percobaan DTL\n",
    "\n",
    "Dalam bagian ini, kami akan mencoba menggunakan decision tree based learning untuk melakukan pengklasifikasian terhadap dataset.\n",
    "\n",
    "Pertama-tama, data yang merupakan gambar akan flattening menjadi nilai rgb per pixel nya. Data dibuat menjadi bentuk 32x32 karena keterbatasan storage.\n",
    "Data dengan besar pixel 128x128 memakan lebih dari 10gb storage ketika diflatten. \n",
    "\n",
    "Karena proses flattening lama, hasil flattening akan disimpan dalam dataset.csv agar dapat digunakan lagi nantinya, tanpa mengulangi proses flattening."
   ]
  },
  {
   "cell_type": "code",
   "execution_count": 2,
   "metadata": {},
   "outputs": [
    {
     "name": "stdout",
     "output_type": "stream",
     "text": [
      "/home/internet/itb/pattern_recognition/training_set/drowsy\n",
      "Processing image number: 0\n",
      "Processing image number: 100\n",
      "Processing image number: 200\n",
      "Processing image number: 300\n",
      "Processing image number: 400\n",
      "Processing image number: 500\n",
      "Processing image number: 600\n",
      "Processing image number: 700\n",
      "Processing image number: 800\n",
      "Processing image number: 900\n",
      "Processing image number: 1000\n",
      "Processing image number: 1100\n",
      "Processing image number: 1200\n",
      "Processing image number: 1300\n",
      "Processing image number: 1400\n",
      "Processing image number: 1500\n",
      "Processing image number: 1600\n",
      "Processing image number: 1700\n",
      "Processing image number: 1800\n",
      "Processing image number: 1900\n",
      "Processing image number: 2000\n",
      "Processing image number: 2100\n",
      "Processing image number: 2200\n",
      "Processing image number: 2300\n",
      "Processing image number: 2400\n",
      "Processing image number: 2500\n",
      "Processing image number: 2600\n",
      "Processing image number: 2700\n",
      "Processing image number: 2800\n",
      "Processing image number: 2900\n",
      "Processing image number: 3000\n",
      "Processing image number: 3100\n",
      "Processing image number: 3200\n",
      "Processing image number: 3300\n",
      "Processing image number: 3400\n",
      "Processing image number: 3500\n",
      "Processing image number: 3600\n",
      "Processing image number: 3700\n",
      "Processing image number: 3800\n",
      "Processing image number: 3900\n",
      "Processing image number: 4000\n",
      "Processing image number: 4100\n",
      "Processing image number: 4200\n",
      "Processing image number: 4300\n",
      "Processing image number: 4400\n",
      "Processing image number: 4500\n",
      "/home/internet/itb/pattern_recognition/training_set/not_drowsy\n",
      "Processing image number: 0\n",
      "Processing image number: 100\n",
      "Processing image number: 200\n",
      "Processing image number: 300\n",
      "Processing image number: 400\n",
      "Processing image number: 500\n",
      "Processing image number: 600\n",
      "Processing image number: 700\n",
      "Processing image number: 800\n",
      "Processing image number: 900\n",
      "Processing image number: 1000\n",
      "Processing image number: 1100\n",
      "Processing image number: 1200\n",
      "Processing image number: 1300\n",
      "Processing image number: 1400\n",
      "Processing image number: 1500\n",
      "Processing image number: 1600\n",
      "Processing image number: 1700\n",
      "Processing image number: 1800\n",
      "Processing image number: 1900\n",
      "Processing image number: 2000\n",
      "Processing image number: 2100\n",
      "Processing image number: 2200\n",
      "Processing image number: 2300\n",
      "Processing image number: 2400\n",
      "Processing image number: 2500\n",
      "Processing image number: 2600\n",
      "Processing image number: 2700\n",
      "Processing image number: 2800\n",
      "Processing image number: 2900\n",
      "Processing image number: 3000\n",
      "Processing image number: 3100\n",
      "Processing image number: 3200\n",
      "Processing image number: 3300\n",
      "Processing image number: 3400\n",
      "Processing image number: 3500\n",
      "Processing image number: 3600\n",
      "Processing image number: 3700\n",
      "Processing image number: 3800\n",
      "Processing image number: 3900\n",
      "Processing image number: 4000\n",
      "Processing image number: 4100\n",
      "Processing image number: 4200\n",
      "Processing image number: 4300\n",
      "Processing image number: 4400\n",
      "Processing image number: 4500\n"
     ]
    }
   ],
   "source": [
    "import os\n",
    "import numpy as np\n",
    "from tensorflow.keras.preprocessing.image import load_img, img_to_array\n",
    "\n",
    "IMG_DIR = '/home/internet/itb/pattern_recognition/training_set'\n",
    "\n",
    "for cls in os.listdir(IMG_DIR):\n",
    "    cls_path = os.path.join(IMG_DIR, cls)\n",
    "    print(cls_path)\n",
    "    for i, img_file in enumerate(os.listdir(cls_path)):\n",
    "        if i % 100 == 0:\n",
    "            print(f\"Processing image number: {i}\")\n",
    "        img = load_img(os.path.join(cls_path, img_file), target_size=(32, 32), color_mode=\"grayscale\")\n",
    "        img_array = (img_to_array(img)).flatten()\n",
    "        \n",
    "        img_array = np.append(img_array, 1 if cls == \"drowsy\" else 0)\n",
    "        img_array  = img_array.reshape(-1, 1).T\n",
    "        \n",
    "        # save it to a csv file\n",
    "        with open('dataset.csv', 'ab') as f:\n",
    "            np.savetxt(f, img_array, fmt='%s', delimiter=\",\")"
   ]
  },
  {
   "cell_type": "code",
   "execution_count": 4,
   "metadata": {},
   "outputs": [
    {
     "data": {
      "text/html": [
       "<div>\n",
       "<style scoped>\n",
       "    .dataframe tbody tr th:only-of-type {\n",
       "        vertical-align: middle;\n",
       "    }\n",
       "\n",
       "    .dataframe tbody tr th {\n",
       "        vertical-align: top;\n",
       "    }\n",
       "\n",
       "    .dataframe thead th {\n",
       "        text-align: right;\n",
       "    }\n",
       "</style>\n",
       "<table border=\"1\" class=\"dataframe\">\n",
       "  <thead>\n",
       "    <tr style=\"text-align: right;\">\n",
       "      <th></th>\n",
       "      <th>0</th>\n",
       "      <th>1</th>\n",
       "      <th>2</th>\n",
       "      <th>3</th>\n",
       "      <th>4</th>\n",
       "      <th>5</th>\n",
       "      <th>6</th>\n",
       "      <th>7</th>\n",
       "      <th>8</th>\n",
       "      <th>9</th>\n",
       "      <th>...</th>\n",
       "      <th>1015</th>\n",
       "      <th>1016</th>\n",
       "      <th>1017</th>\n",
       "      <th>1018</th>\n",
       "      <th>1019</th>\n",
       "      <th>1020</th>\n",
       "      <th>1021</th>\n",
       "      <th>1022</th>\n",
       "      <th>1023</th>\n",
       "      <th>1024</th>\n",
       "    </tr>\n",
       "  </thead>\n",
       "  <tbody>\n",
       "    <tr>\n",
       "      <th>0</th>\n",
       "      <td>244.0</td>\n",
       "      <td>234.0</td>\n",
       "      <td>219.0</td>\n",
       "      <td>221.0</td>\n",
       "      <td>217.0</td>\n",
       "      <td>219.0</td>\n",
       "      <td>214.0</td>\n",
       "      <td>210.0</td>\n",
       "      <td>208.0</td>\n",
       "      <td>209.0</td>\n",
       "      <td>...</td>\n",
       "      <td>255.0</td>\n",
       "      <td>255.0</td>\n",
       "      <td>255.0</td>\n",
       "      <td>255.0</td>\n",
       "      <td>255.0</td>\n",
       "      <td>255.0</td>\n",
       "      <td>57.0</td>\n",
       "      <td>52.0</td>\n",
       "      <td>53.0</td>\n",
       "      <td>1.0</td>\n",
       "    </tr>\n",
       "  </tbody>\n",
       "</table>\n",
       "<p>1 rows × 1025 columns</p>\n",
       "</div>"
      ],
      "text/plain": [
       "    0      1      2      3      4      5      6      7      8      9     ...  \\\n",
       "0  244.0  234.0  219.0  221.0  217.0  219.0  214.0  210.0  208.0  209.0  ...   \n",
       "\n",
       "    1015   1016   1017   1018   1019   1020  1021  1022  1023  1024  \n",
       "0  255.0  255.0  255.0  255.0  255.0  255.0  57.0  52.0  53.0   1.0  \n",
       "\n",
       "[1 rows x 1025 columns]"
      ]
     },
     "execution_count": 4,
     "metadata": {},
     "output_type": "execute_result"
    }
   ],
   "source": [
    "import pandas as pd\n",
    "\n",
    "df = pd.read_csv(\"./dataset.csv\", header=None)\n",
    "df.head(1)"
   ]
  },
  {
   "cell_type": "code",
   "execution_count": 18,
   "metadata": {},
   "outputs": [],
   "source": [
    "# Import train_test_split function\n",
    "from sklearn.model_selection import train_test_split\n",
    "\n",
    "X=df.iloc[:, :-1]  # Features\n",
    "y=df.iloc[:, -1].astype(int)  # Labels\n",
    "\n",
    "# Split dataset into training set and test set\n",
    "X_train, X_test, y_train, y_test = train_test_split(X, y, test_size=0.3) # 70% training and 30% validation set"
   ]
  },
  {
   "cell_type": "code",
   "execution_count": 20,
   "metadata": {},
   "outputs": [
    {
     "name": "stdout",
     "output_type": "stream",
     "text": [
      "Accuracy: 0.893640350877193\n"
     ]
    }
   ],
   "source": [
    "from sklearn.ensemble import RandomForestClassifier\n",
    "from sklearn import metrics\n",
    "\n",
    "clf=RandomForestClassifier(n_estimators=100)\n",
    "clf.fit(X_train,y_train)\n",
    "y_pred=clf.predict(X_test)\n",
    "print(\"Accuracy:\", metrics.accuracy_score(y_test, y_pred))\n"
   ]
  },
  {
   "cell_type": "markdown",
   "metadata": {},
   "source": [
    "Ternyata, penggunaan Random Forest dalam proses pengklasifikasian ini cukup baik, degnan besaran performa akurasi sekitar 89% (berubah-ubah setiap run)"
   ]
  },
  {
   "cell_type": "markdown",
   "metadata": {},
   "source": [
    "## III. Percobaan Fully Connected \n",
    "\n",
    "Di bagian ini, kita akan melihat bagimana hasil NN yang sangat sederhana (fully connected) dalam mengklasifikasi dataset yang sudah dibentuk menjadi csv sebelumnya."
   ]
  },
  {
   "cell_type": "code",
   "execution_count": 15,
   "metadata": {},
   "outputs": [
    {
     "name": "stdout",
     "output_type": "stream",
     "text": [
      "Model: \"Model\"\n",
      "_________________________________________________________________\n",
      " Layer (type)                Output Shape              Param #   \n",
      "=================================================================\n",
      " dense_21 (Dense)            (None, 64)                65600     \n",
      "                                                                 \n",
      " dense_22 (Dense)            (None, 64)                4160      \n",
      "                                                                 \n",
      " dense_23 (Dense)            (None, 32)                2080      \n",
      "                                                                 \n",
      " dense_24 (Dense)            (None, 32)                1056      \n",
      "                                                                 \n",
      " dense_25 (Dense)            (None, 16)                528       \n",
      "                                                                 \n",
      " dense_26 (Dense)            (None, 16)                272       \n",
      "                                                                 \n",
      " dense_27 (Dense)            (None, 1)                 17        \n",
      "                                                                 \n",
      "=================================================================\n",
      "Total params: 73,713\n",
      "Trainable params: 73,713\n",
      "Non-trainable params: 0\n",
      "_________________________________________________________________\n"
     ]
    }
   ],
   "source": [
    "import pandas as pd\n",
    "import tensorflow\n",
    "from tensorflow.keras import layers, models\n",
    "from sklearn.model_selection import train_test_split\n",
    "from sklearn import metrics\n",
    "\n",
    "df = pd.read_csv(\"./dataset.csv\", header=None)\n",
    "df.head(1)\n",
    "\n",
    "df = pd.read_csv(\"./dataset.csv\", header=None)\n",
    "X=df.iloc[:, :-1]\n",
    "y=df.iloc[:, -1].astype(int)\n",
    "\n",
    "# Split dataset into training set and test set\n",
    "X_train, X_test, y_train, y_test = train_test_split(X, y, test_size=0.3) # 70% training and 30% validation set\n",
    "\n",
    "model = models.Sequential(\n",
    "  [\n",
    "    layers.Dense(64, activation=\"relu\", input_dim=1024),\n",
    "    layers.Dense(64, activation=\"relu\"),\n",
    "    layers.Dense(32, activation=\"relu\"),\n",
    "    layers.Dense(32, activation=\"relu\"),\n",
    "    layers.Dense(16, activation=\"relu\"),\n",
    "    layers.Dense(16, activation=\"relu\"),\n",
    "    layers.Dense(1, activation=\"sigmoid\")\n",
    "  ],\n",
    "  name=\"Model\"\n",
    ")\n",
    "model.summary()"
   ]
  },
  {
   "cell_type": "code",
   "execution_count": 17,
   "metadata": {},
   "outputs": [
    {
     "name": "stdout",
     "output_type": "stream",
     "text": [
      "Epoch 1/100\n",
      "200/200 [==============================] - 1s 4ms/step - loss: 0.4406 - accuracy: 0.7937 - val_loss: 0.3922 - val_accuracy: 0.8110\n",
      "Epoch 2/100\n",
      "200/200 [==============================] - 1s 3ms/step - loss: 0.4347 - accuracy: 0.7932 - val_loss: 0.3651 - val_accuracy: 0.8096\n",
      "Epoch 3/100\n",
      "200/200 [==============================] - 1s 3ms/step - loss: 0.3799 - accuracy: 0.8167 - val_loss: 0.3517 - val_accuracy: 0.8264\n",
      "Epoch 4/100\n",
      "200/200 [==============================] - 1s 3ms/step - loss: 0.3687 - accuracy: 0.8307 - val_loss: 0.3685 - val_accuracy: 0.8249\n",
      "Epoch 5/100\n",
      "200/200 [==============================] - 1s 4ms/step - loss: 0.3458 - accuracy: 0.8396 - val_loss: 0.3360 - val_accuracy: 0.8403\n",
      "Epoch 6/100\n",
      "200/200 [==============================] - 1s 4ms/step - loss: 0.3537 - accuracy: 0.8313 - val_loss: 0.3475 - val_accuracy: 0.8414\n",
      "Epoch 7/100\n",
      "200/200 [==============================] - 1s 3ms/step - loss: 0.3487 - accuracy: 0.8379 - val_loss: 0.4073 - val_accuracy: 0.7961\n",
      "Epoch 8/100\n",
      "200/200 [==============================] - 1s 3ms/step - loss: 0.3462 - accuracy: 0.8360 - val_loss: 0.3293 - val_accuracy: 0.8498\n",
      "Epoch 9/100\n",
      "200/200 [==============================] - 1s 3ms/step - loss: 0.3554 - accuracy: 0.8338 - val_loss: 0.5283 - val_accuracy: 0.7178\n",
      "Epoch 10/100\n",
      "200/200 [==============================] - 1s 3ms/step - loss: 0.3600 - accuracy: 0.8349 - val_loss: 0.3494 - val_accuracy: 0.8176\n",
      "Epoch 11/100\n",
      "200/200 [==============================] - 1s 3ms/step - loss: 0.3346 - accuracy: 0.8418 - val_loss: 0.3460 - val_accuracy: 0.8333\n",
      "Epoch 12/100\n",
      "200/200 [==============================] - 1s 3ms/step - loss: 0.3300 - accuracy: 0.8526 - val_loss: 0.3588 - val_accuracy: 0.8114\n",
      "Epoch 13/100\n",
      "200/200 [==============================] - 1s 3ms/step - loss: 0.3421 - accuracy: 0.8488 - val_loss: 0.3187 - val_accuracy: 0.8567\n",
      "Epoch 14/100\n",
      "200/200 [==============================] - 1s 3ms/step - loss: 0.3190 - accuracy: 0.8565 - val_loss: 0.3175 - val_accuracy: 0.8494\n",
      "Epoch 15/100\n",
      "200/200 [==============================] - 1s 3ms/step - loss: 0.3244 - accuracy: 0.8548 - val_loss: 0.3255 - val_accuracy: 0.8472\n",
      "Epoch 16/100\n",
      "200/200 [==============================] - 0s 2ms/step - loss: 0.3145 - accuracy: 0.8568 - val_loss: 0.3152 - val_accuracy: 0.8571\n",
      "Epoch 17/100\n",
      "200/200 [==============================] - 1s 3ms/step - loss: 0.3246 - accuracy: 0.8528 - val_loss: 0.3217 - val_accuracy: 0.8487\n",
      "Epoch 18/100\n",
      "200/200 [==============================] - 1s 3ms/step - loss: 0.3084 - accuracy: 0.8625 - val_loss: 0.3135 - val_accuracy: 0.8589\n",
      "Epoch 19/100\n",
      "200/200 [==============================] - 1s 3ms/step - loss: 0.3083 - accuracy: 0.8640 - val_loss: 0.3223 - val_accuracy: 0.8655\n",
      "Epoch 20/100\n",
      "200/200 [==============================] - 1s 3ms/step - loss: 0.2999 - accuracy: 0.8684 - val_loss: 0.3225 - val_accuracy: 0.8487\n",
      "Epoch 21/100\n",
      "200/200 [==============================] - 1s 3ms/step - loss: 0.3085 - accuracy: 0.8661 - val_loss: 0.3300 - val_accuracy: 0.8490\n",
      "Epoch 22/100\n",
      "200/200 [==============================] - 1s 3ms/step - loss: 0.3007 - accuracy: 0.8705 - val_loss: 0.3530 - val_accuracy: 0.8480\n",
      "Epoch 23/100\n",
      "200/200 [==============================] - 1s 3ms/step - loss: 0.3027 - accuracy: 0.8684 - val_loss: 0.3156 - val_accuracy: 0.8523\n",
      "Epoch 24/100\n",
      "200/200 [==============================] - 1s 3ms/step - loss: 0.3029 - accuracy: 0.8650 - val_loss: 0.3098 - val_accuracy: 0.8622\n",
      "Epoch 25/100\n",
      "200/200 [==============================] - 1s 3ms/step - loss: 0.3003 - accuracy: 0.8683 - val_loss: 0.3189 - val_accuracy: 0.8593\n",
      "Epoch 26/100\n",
      "200/200 [==============================] - 1s 3ms/step - loss: 0.2959 - accuracy: 0.8672 - val_loss: 0.3202 - val_accuracy: 0.8615\n",
      "Epoch 27/100\n",
      "200/200 [==============================] - 1s 3ms/step - loss: 0.2964 - accuracy: 0.8720 - val_loss: 0.3139 - val_accuracy: 0.8578\n",
      "Epoch 28/100\n",
      "200/200 [==============================] - 1s 3ms/step - loss: 0.3004 - accuracy: 0.8664 - val_loss: 0.3216 - val_accuracy: 0.8512\n",
      "Epoch 29/100\n",
      "200/200 [==============================] - 1s 3ms/step - loss: 0.2933 - accuracy: 0.8737 - val_loss: 0.3142 - val_accuracy: 0.8571\n",
      "Epoch 30/100\n",
      "200/200 [==============================] - 0s 2ms/step - loss: 0.2936 - accuracy: 0.8690 - val_loss: 0.3022 - val_accuracy: 0.8706\n",
      "Epoch 31/100\n",
      "200/200 [==============================] - 0s 2ms/step - loss: 0.2970 - accuracy: 0.8665 - val_loss: 0.2952 - val_accuracy: 0.8670\n",
      "Epoch 32/100\n",
      "200/200 [==============================] - 1s 3ms/step - loss: 0.2914 - accuracy: 0.8761 - val_loss: 0.3451 - val_accuracy: 0.8403\n",
      "Epoch 33/100\n",
      "200/200 [==============================] - 0s 2ms/step - loss: 0.2884 - accuracy: 0.8747 - val_loss: 0.2960 - val_accuracy: 0.8659\n",
      "Epoch 34/100\n",
      "200/200 [==============================] - 0s 2ms/step - loss: 0.2771 - accuracy: 0.8778 - val_loss: 0.3005 - val_accuracy: 0.8699\n",
      "Epoch 35/100\n",
      "200/200 [==============================] - 1s 3ms/step - loss: 0.2716 - accuracy: 0.8828 - val_loss: 0.3026 - val_accuracy: 0.8688\n",
      "Epoch 36/100\n",
      "200/200 [==============================] - 1s 4ms/step - loss: 0.2940 - accuracy: 0.8673 - val_loss: 0.2957 - val_accuracy: 0.8629\n",
      "Epoch 37/100\n",
      "200/200 [==============================] - 0s 2ms/step - loss: 0.2972 - accuracy: 0.8670 - val_loss: 0.3018 - val_accuracy: 0.8644\n",
      "Epoch 38/100\n",
      "200/200 [==============================] - 0s 2ms/step - loss: 0.2817 - accuracy: 0.8763 - val_loss: 0.3110 - val_accuracy: 0.8626\n",
      "Epoch 39/100\n",
      "200/200 [==============================] - 1s 3ms/step - loss: 0.2807 - accuracy: 0.8799 - val_loss: 0.2934 - val_accuracy: 0.8724\n",
      "Epoch 40/100\n",
      "200/200 [==============================] - 1s 3ms/step - loss: 0.2723 - accuracy: 0.8849 - val_loss: 0.3009 - val_accuracy: 0.8713\n",
      "Epoch 41/100\n",
      "200/200 [==============================] - 1s 3ms/step - loss: 0.2755 - accuracy: 0.8810 - val_loss: 0.2854 - val_accuracy: 0.8713\n",
      "Epoch 42/100\n",
      "200/200 [==============================] - 1s 3ms/step - loss: 0.2766 - accuracy: 0.8803 - val_loss: 0.3178 - val_accuracy: 0.8644\n",
      "Epoch 43/100\n",
      "200/200 [==============================] - 1s 3ms/step - loss: 0.2770 - accuracy: 0.8770 - val_loss: 0.3293 - val_accuracy: 0.8494\n",
      "Epoch 44/100\n",
      "200/200 [==============================] - 1s 3ms/step - loss: 0.2720 - accuracy: 0.8778 - val_loss: 0.3114 - val_accuracy: 0.8575\n",
      "Epoch 45/100\n",
      "200/200 [==============================] - 1s 3ms/step - loss: 0.2798 - accuracy: 0.8742 - val_loss: 0.2907 - val_accuracy: 0.8670\n",
      "Epoch 46/100\n",
      "200/200 [==============================] - 1s 3ms/step - loss: 0.2689 - accuracy: 0.8806 - val_loss: 0.3004 - val_accuracy: 0.8640\n",
      "Epoch 47/100\n",
      "200/200 [==============================] - 1s 3ms/step - loss: 0.2695 - accuracy: 0.8811 - val_loss: 0.2877 - val_accuracy: 0.8754\n",
      "Epoch 48/100\n",
      "200/200 [==============================] - 1s 3ms/step - loss: 0.2740 - accuracy: 0.8794 - val_loss: 0.3119 - val_accuracy: 0.8520\n",
      "Epoch 49/100\n",
      "200/200 [==============================] - 1s 3ms/step - loss: 0.2655 - accuracy: 0.8869 - val_loss: 0.2859 - val_accuracy: 0.8787\n",
      "Epoch 50/100\n",
      "200/200 [==============================] - 1s 3ms/step - loss: 0.2611 - accuracy: 0.8864 - val_loss: 0.2967 - val_accuracy: 0.8666\n",
      "Epoch 51/100\n",
      "200/200 [==============================] - 1s 3ms/step - loss: 0.2694 - accuracy: 0.8841 - val_loss: 0.2912 - val_accuracy: 0.8721\n",
      "Epoch 52/100\n",
      "200/200 [==============================] - 1s 3ms/step - loss: 0.2637 - accuracy: 0.8831 - val_loss: 0.2955 - val_accuracy: 0.8695\n",
      "Epoch 53/100\n",
      "200/200 [==============================] - 1s 3ms/step - loss: 0.2610 - accuracy: 0.8888 - val_loss: 0.2944 - val_accuracy: 0.8659\n",
      "Epoch 54/100\n",
      "200/200 [==============================] - 1s 3ms/step - loss: 0.2591 - accuracy: 0.8893 - val_loss: 0.3077 - val_accuracy: 0.8692\n",
      "Epoch 55/100\n",
      "200/200 [==============================] - 0s 2ms/step - loss: 0.2591 - accuracy: 0.8871 - val_loss: 0.2990 - val_accuracy: 0.8717\n",
      "Epoch 56/100\n",
      "200/200 [==============================] - 1s 3ms/step - loss: 0.2530 - accuracy: 0.8885 - val_loss: 0.2964 - val_accuracy: 0.8713\n",
      "Epoch 57/100\n",
      "200/200 [==============================] - 1s 3ms/step - loss: 0.2561 - accuracy: 0.8835 - val_loss: 0.3170 - val_accuracy: 0.8717\n",
      "Epoch 58/100\n",
      "200/200 [==============================] - 1s 3ms/step - loss: 0.2660 - accuracy: 0.8833 - val_loss: 0.2845 - val_accuracy: 0.8746\n",
      "Epoch 59/100\n",
      "200/200 [==============================] - 1s 3ms/step - loss: 0.2558 - accuracy: 0.8871 - val_loss: 0.3091 - val_accuracy: 0.8776\n",
      "Epoch 60/100\n",
      "200/200 [==============================] - 1s 3ms/step - loss: 0.2592 - accuracy: 0.8896 - val_loss: 0.2831 - val_accuracy: 0.8787\n",
      "Epoch 61/100\n",
      "200/200 [==============================] - 1s 3ms/step - loss: 0.2552 - accuracy: 0.8893 - val_loss: 0.2808 - val_accuracy: 0.8816\n",
      "Epoch 62/100\n",
      "200/200 [==============================] - 0s 2ms/step - loss: 0.2529 - accuracy: 0.8904 - val_loss: 0.3338 - val_accuracy: 0.8571\n",
      "Epoch 63/100\n",
      "200/200 [==============================] - 1s 3ms/step - loss: 0.2523 - accuracy: 0.8947 - val_loss: 0.2911 - val_accuracy: 0.8739\n",
      "Epoch 64/100\n",
      "200/200 [==============================] - 0s 2ms/step - loss: 0.2514 - accuracy: 0.8907 - val_loss: 0.3240 - val_accuracy: 0.8465\n",
      "Epoch 65/100\n",
      "200/200 [==============================] - 1s 3ms/step - loss: 0.2503 - accuracy: 0.8896 - val_loss: 0.2917 - val_accuracy: 0.8721\n",
      "Epoch 66/100\n",
      "200/200 [==============================] - 0s 2ms/step - loss: 0.2520 - accuracy: 0.8911 - val_loss: 0.3019 - val_accuracy: 0.8779\n",
      "Epoch 67/100\n",
      "200/200 [==============================] - 1s 3ms/step - loss: 0.2518 - accuracy: 0.8932 - val_loss: 0.2873 - val_accuracy: 0.8728\n",
      "Epoch 68/100\n",
      "200/200 [==============================] - 1s 3ms/step - loss: 0.2467 - accuracy: 0.8935 - val_loss: 0.2779 - val_accuracy: 0.8805\n",
      "Epoch 69/100\n",
      "200/200 [==============================] - 1s 3ms/step - loss: 0.2498 - accuracy: 0.8930 - val_loss: 0.3215 - val_accuracy: 0.8688\n",
      "Epoch 70/100\n",
      "200/200 [==============================] - 0s 2ms/step - loss: 0.2530 - accuracy: 0.8905 - val_loss: 0.2909 - val_accuracy: 0.8761\n",
      "Epoch 71/100\n",
      "200/200 [==============================] - 1s 3ms/step - loss: 0.2442 - accuracy: 0.8908 - val_loss: 0.2894 - val_accuracy: 0.8754\n",
      "Epoch 72/100\n",
      "200/200 [==============================] - 1s 3ms/step - loss: 0.2456 - accuracy: 0.8951 - val_loss: 0.2881 - val_accuracy: 0.8801\n",
      "Epoch 73/100\n",
      "200/200 [==============================] - 1s 3ms/step - loss: 0.2438 - accuracy: 0.8922 - val_loss: 0.3156 - val_accuracy: 0.8615\n",
      "Epoch 74/100\n",
      "200/200 [==============================] - 0s 2ms/step - loss: 0.2503 - accuracy: 0.8900 - val_loss: 0.3112 - val_accuracy: 0.8655\n",
      "Epoch 75/100\n",
      "200/200 [==============================] - 1s 3ms/step - loss: 0.2442 - accuracy: 0.8996 - val_loss: 0.2771 - val_accuracy: 0.8801\n",
      "Epoch 76/100\n",
      "200/200 [==============================] - 1s 3ms/step - loss: 0.2469 - accuracy: 0.8899 - val_loss: 0.2873 - val_accuracy: 0.8787\n",
      "Epoch 77/100\n",
      "200/200 [==============================] - 1s 3ms/step - loss: 0.2422 - accuracy: 0.8963 - val_loss: 0.2824 - val_accuracy: 0.8710\n",
      "Epoch 78/100\n",
      "200/200 [==============================] - 1s 3ms/step - loss: 0.2438 - accuracy: 0.8933 - val_loss: 0.3150 - val_accuracy: 0.8670\n",
      "Epoch 79/100\n",
      "200/200 [==============================] - 1s 3ms/step - loss: 0.2377 - accuracy: 0.8987 - val_loss: 0.3261 - val_accuracy: 0.8787\n",
      "Epoch 80/100\n",
      "200/200 [==============================] - 0s 2ms/step - loss: 0.2426 - accuracy: 0.8913 - val_loss: 0.3054 - val_accuracy: 0.8702\n",
      "Epoch 81/100\n",
      "200/200 [==============================] - 1s 3ms/step - loss: 0.2405 - accuracy: 0.9008 - val_loss: 0.2908 - val_accuracy: 0.8779\n",
      "Epoch 82/100\n",
      "200/200 [==============================] - 0s 2ms/step - loss: 0.2364 - accuracy: 0.9004 - val_loss: 0.2956 - val_accuracy: 0.8743\n",
      "Epoch 83/100\n",
      "200/200 [==============================] - 0s 2ms/step - loss: 0.2418 - accuracy: 0.8958 - val_loss: 0.2873 - val_accuracy: 0.8754\n",
      "Epoch 84/100\n",
      "200/200 [==============================] - 1s 3ms/step - loss: 0.2377 - accuracy: 0.8987 - val_loss: 0.3003 - val_accuracy: 0.8659\n",
      "Epoch 85/100\n",
      "200/200 [==============================] - 1s 3ms/step - loss: 0.2468 - accuracy: 0.8936 - val_loss: 0.2777 - val_accuracy: 0.8863\n",
      "Epoch 86/100\n",
      "200/200 [==============================] - 1s 3ms/step - loss: 0.2456 - accuracy: 0.8924 - val_loss: 0.3443 - val_accuracy: 0.8586\n",
      "Epoch 87/100\n",
      "200/200 [==============================] - 1s 3ms/step - loss: 0.2390 - accuracy: 0.8971 - val_loss: 0.3153 - val_accuracy: 0.8659\n",
      "Epoch 88/100\n",
      "200/200 [==============================] - 0s 2ms/step - loss: 0.2378 - accuracy: 0.8999 - val_loss: 0.3039 - val_accuracy: 0.8772\n",
      "Epoch 89/100\n",
      "200/200 [==============================] - 0s 2ms/step - loss: 0.2399 - accuracy: 0.8966 - val_loss: 0.2832 - val_accuracy: 0.8765\n",
      "Epoch 90/100\n",
      "200/200 [==============================] - 1s 3ms/step - loss: 0.2340 - accuracy: 0.8994 - val_loss: 0.3057 - val_accuracy: 0.8659\n",
      "Epoch 91/100\n",
      "200/200 [==============================] - 1s 3ms/step - loss: 0.2402 - accuracy: 0.8977 - val_loss: 0.3203 - val_accuracy: 0.8717\n",
      "Epoch 92/100\n",
      "200/200 [==============================] - 0s 2ms/step - loss: 0.2332 - accuracy: 0.8996 - val_loss: 0.2767 - val_accuracy: 0.8812\n",
      "Epoch 93/100\n",
      "200/200 [==============================] - 1s 3ms/step - loss: 0.2379 - accuracy: 0.8958 - val_loss: 0.2937 - val_accuracy: 0.8761\n",
      "Epoch 94/100\n",
      "200/200 [==============================] - 1s 3ms/step - loss: 0.2355 - accuracy: 0.8966 - val_loss: 0.3309 - val_accuracy: 0.8604\n",
      "Epoch 95/100\n",
      "200/200 [==============================] - 1s 3ms/step - loss: 0.2328 - accuracy: 0.9019 - val_loss: 0.2942 - val_accuracy: 0.8798\n",
      "Epoch 96/100\n",
      "200/200 [==============================] - 1s 3ms/step - loss: 0.2465 - accuracy: 0.8980 - val_loss: 0.3256 - val_accuracy: 0.8721\n",
      "Epoch 97/100\n",
      "200/200 [==============================] - 1s 3ms/step - loss: 0.2393 - accuracy: 0.8982 - val_loss: 0.2858 - val_accuracy: 0.8794\n",
      "Epoch 98/100\n",
      "200/200 [==============================] - 1s 3ms/step - loss: 0.2347 - accuracy: 0.8965 - val_loss: 0.3036 - val_accuracy: 0.8746\n",
      "Epoch 99/100\n",
      "200/200 [==============================] - 1s 3ms/step - loss: 0.2338 - accuracy: 0.9001 - val_loss: 0.2784 - val_accuracy: 0.8808\n",
      "Epoch 100/100\n",
      "200/200 [==============================] - 1s 3ms/step - loss: 0.2314 - accuracy: 0.9002 - val_loss: 0.3210 - val_accuracy: 0.8732\n"
     ]
    },
    {
     "data": {
      "text/plain": [
       "<AxesSubplot:>"
      ]
     },
     "execution_count": 17,
     "metadata": {},
     "output_type": "execute_result"
    },
    {
     "data": {
      "image/png": "[encoded data removed]",
      "text/plain": [
       "<Figure size 432x288 with 1 Axes>"
      ]
     },
     "metadata": {
      "needs_background": "light"
     },
     "output_type": "display_data"
    },
    {
     "data": {
      "image/png": "[encoded data removed]",
      "text/plain": [
       "<Figure size 432x288 with 1 Axes>"
      ]
     },
     "metadata": {
      "needs_background": "light"
     },
     "output_type": "display_data"
    }
   ],
   "source": [
    "model.compile(\n",
    "    optimizer='adam',\n",
    "    loss=\"binary_crossentropy\",\n",
    "    metrics=['accuracy']\n",
    ")\n",
    "history = model.fit(X_train, y_train, validation_data=(X_test, y_test), epochs=100)\n",
    "y_pred=model.predict(X_test)\n",
    "metrics_df = pd.DataFrame(history.history)\n",
    "metrics_df[[\"loss\",\"val_loss\"]].plot()\n",
    "metrics_df[[\"accuracy\",\"val_accuracy\"]].plot()\n"
   ]
  },
  {
   "cell_type": "markdown",
   "metadata": {},
   "source": [
    "Dari hasil di atas, kita dapatkan bahwa NN sederhana berbentuk fully connected mampu mengklasifikasi dengan cukup baik, dengan akurasi training data 90% dan validation data 87%"
   ]
  },
  {
   "cell_type": "markdown",
   "metadata": {},
   "source": [
    "# III. Percobaan Utama -- CNN"
   ]
  },
  {
   "cell_type": "markdown",
   "metadata": {},
   "source": [
    "### Mencoba menggunakan data yang dibangun menjadi berukuran 64x64x3"
   ]
  },
  {
   "cell_type": "code",
   "execution_count": 1,
   "metadata": {},
   "outputs": [
    {
     "name": "stderr",
     "output_type": "stream",
     "text": [
      "2021-11-28 11:55:01.892659: W tensorflow/stream_executor/platform/default/dso_loader.cc:64] Could not load dynamic library 'libcudart.so.11.0'; dlerror: libcudart.so.11.0: cannot open shared object file: No such file or directory\n",
      "2021-11-28 11:55:01.892699: I tensorflow/stream_executor/cuda/cudart_stub.cc:29] Ignore above cudart dlerror if you do not have a GPU set up on your machine.\n"
     ]
    }
   ],
   "source": [
    "import tensorflow\n",
    "from tensorflow.keras import layers, models\n",
    "import pandas as pd"
   ]
  },
  {
   "cell_type": "code",
   "execution_count": 14,
   "metadata": {},
   "outputs": [
    {
     "name": "stdout",
     "output_type": "stream",
     "text": [
      "Found 9120 files belonging to 2 classes.\n",
      "Found 600 files belonging to 2 classes.\n"
     ]
    }
   ],
   "source": [
    "import tensorflow\n",
    "\n",
    "training_set = tensorflow.keras.preprocessing.image_dataset_from_directory(\n",
    "    \"/home/internet/itb/pattern_recognition/training_set\",\n",
    "    seed=101,\n",
    "    image_size=(64, 64),\n",
    "    batch_size=32\n",
    ")\n",
    "validation_set = tensorflow.keras.preprocessing.image_dataset_from_directory(\n",
    "    \"/home/internet/itb/pattern_recognition/validation_set\",\n",
    "    seed=101,\n",
    "    image_size=(64, 64),\n",
    "    batch_size=32\n",
    ")"
   ]
  },
  {
   "cell_type": "code",
   "execution_count": 15,
   "metadata": {},
   "outputs": [
    {
     "data": {
      "text/plain": [
       "['drowsy', 'not_drowsy']"
      ]
     },
     "execution_count": 15,
     "metadata": {},
     "output_type": "execute_result"
    }
   ],
   "source": [
    "training_set.class_names"
   ]
  },
  {
   "cell_type": "markdown",
   "metadata": {},
   "source": [
    "### Base Model\n",
    "\n",
    "Berikut merupakan base model yang kami gunakan"
   ]
  },
  {
   "cell_type": "code",
   "execution_count": 16,
   "metadata": {},
   "outputs": [],
   "source": [
    "from tensorflow.keras import layers, models\n",
    "\n",
    "model = models.Sequential(\n",
    "  [\n",
    "    layers.Conv2D(8, (3, 3), activation=\"relu\", padding=\"same\", input_shape=(64, 64, 3)),\n",
    "    layers.MaxPooling2D((2, 2)),\n",
    "    layers.Conv2D(32, (3, 3), activation=\"relu\", padding=\"same\"),\n",
    "    layers.MaxPooling2D((2, 2)),\n",
    "    layers.Conv2D(64, (3, 3), activation=\"relu\", padding=\"same\"),\n",
    "    layers.MaxPooling2D((2, 2)),\n",
    "    layers.Conv2D(128, (3, 3), activation=\"relu\", padding=\"same\"),\n",
    "    layers.Flatten(),\n",
    "    layers.Dense(64, activation=\"relu\"),\n",
    "    layers.Dense(10, activation=\"relu\"),\n",
    "    layers.Dense(1, activation=\"sigmoid\")\n",
    "  ],\n",
    "  name=\"Model\"\n",
    ")"
   ]
  },
  {
   "cell_type": "code",
   "execution_count": 17,
   "metadata": {},
   "outputs": [
    {
     "name": "stdout",
     "output_type": "stream",
     "text": [
      "Model: \"Model\"\n",
      "_________________________________________________________________\n",
      " Layer (type)                Output Shape              Param #   \n",
      "=================================================================\n",
      " conv2d_12 (Conv2D)          (None, 64, 64, 8)         224       \n",
      "                                                                 \n",
      " max_pooling2d_9 (MaxPooling  (None, 32, 32, 8)        0         \n",
      " 2D)                                                             \n",
      "                                                                 \n",
      " conv2d_13 (Conv2D)          (None, 32, 32, 32)        2336      \n",
      "                                                                 \n",
      " max_pooling2d_10 (MaxPoolin  (None, 16, 16, 32)       0         \n",
      " g2D)                                                            \n",
      "                                                                 \n",
      " conv2d_14 (Conv2D)          (None, 16, 16, 64)        18496     \n",
      "                                                                 \n",
      " max_pooling2d_11 (MaxPoolin  (None, 8, 8, 64)         0         \n",
      " g2D)                                                            \n",
      "                                                                 \n",
      " conv2d_15 (Conv2D)          (None, 8, 8, 128)         73856     \n",
      "                                                                 \n",
      " flatten_4 (Flatten)         (None, 8192)              0         \n",
      "                                                                 \n",
      " dense_11 (Dense)            (None, 64)                524352    \n",
      "                                                                 \n",
      " dense_12 (Dense)            (None, 10)                650       \n",
      "                                                                 \n",
      " dense_13 (Dense)            (None, 1)                 11        \n",
      "                                                                 \n",
      "=================================================================\n",
      "Total params: 619,925\n",
      "Trainable params: 619,925\n",
      "Non-trainable params: 0\n",
      "_________________________________________________________________\n"
     ]
    }
   ],
   "source": [
    "model.summary()"
   ]
  },
  {
   "cell_type": "code",
   "execution_count": 18,
   "metadata": {},
   "outputs": [],
   "source": [
    "model.compile(\n",
    "    optimizer='adam',\n",
    "    loss=\"binary_crossentropy\",\n",
    "    metrics=['accuracy']\n",
    ")"
   ]
  },
  {
   "cell_type": "code",
   "execution_count": 19,
   "metadata": {},
   "outputs": [
    {
     "name": "stdout",
     "output_type": "stream",
     "text": [
      "Epoch 1/10\n",
      "285/285 [==============================] - 33s 112ms/step - loss: 0.7676 - accuracy: 0.4919 - val_loss: 0.6931 - val_accuracy: 0.5000\n",
      "Epoch 2/10\n",
      "285/285 [==============================] - 31s 107ms/step - loss: 0.6932 - accuracy: 0.4923 - val_loss: 0.6931 - val_accuracy: 0.5000\n",
      "Epoch 3/10\n",
      "285/285 [==============================] - 34s 117ms/step - loss: 0.6932 - accuracy: 0.4958 - val_loss: 0.6931 - val_accuracy: 0.5000\n",
      "Epoch 4/10\n",
      "285/285 [==============================] - 33s 113ms/step - loss: 0.6932 - accuracy: 0.4954 - val_loss: 0.6931 - val_accuracy: 0.5000\n",
      "Epoch 5/10\n",
      "285/285 [==============================] - 32s 110ms/step - loss: 0.6932 - accuracy: 0.4923 - val_loss: 0.6931 - val_accuracy: 0.5000\n",
      "Epoch 6/10\n",
      "285/285 [==============================] - 35s 115ms/step - loss: 0.6932 - accuracy: 0.4976 - val_loss: 0.6931 - val_accuracy: 0.5000\n",
      "Epoch 7/10\n",
      "285/285 [==============================] - 34s 117ms/step - loss: 0.6932 - accuracy: 0.4934 - val_loss: 0.6931 - val_accuracy: 0.5000\n",
      "Epoch 8/10\n",
      "285/285 [==============================] - 32s 111ms/step - loss: 0.6932 - accuracy: 0.4952 - val_loss: 0.6931 - val_accuracy: 0.5000\n",
      "Epoch 9/10\n",
      "285/285 [==============================] - 33s 112ms/step - loss: 0.6932 - accuracy: 0.4974 - val_loss: 0.6931 - val_accuracy: 0.5000\n",
      "Epoch 10/10\n",
      "285/285 [==============================] - 32s 111ms/step - loss: 0.6932 - accuracy: 0.4939 - val_loss: 0.6931 - val_accuracy: 0.5000\n"
     ]
    }
   ],
   "source": [
    "history = model.fit(training_set,validation_data=validation_set, epochs=10)"
   ]
  },
  {
   "cell_type": "code",
   "execution_count": 20,
   "metadata": {},
   "outputs": [
    {
     "data": {
      "text/plain": [
       "<AxesSubplot:>"
      ]
     },
     "execution_count": 20,
     "metadata": {},
     "output_type": "execute_result"
    },
    {
     "data": {
      "image/png": "[encoded data removed]",
      "text/plain": [
       "<Figure size 432x288 with 1 Axes>"
      ]
     },
     "metadata": {
      "needs_background": "light"
     },
     "output_type": "display_data"
    }
   ],
   "source": [
    "import pandas as pd\n",
    "\n",
    "metrics_df = pd.DataFrame(history.history)\n",
    "metrics_df[[\"loss\",\"val_loss\"]].plot()"
   ]
  },
  {
   "cell_type": "markdown",
   "metadata": {},
   "source": []
  },
  {
   "cell_type": "code",
   "execution_count": 21,
   "metadata": {},
   "outputs": [
    {
     "data": {
      "text/plain": [
       "<AxesSubplot:>"
      ]
     },
     "execution_count": 21,
     "metadata": {},
     "output_type": "execute_result"
    },
    {
     "data": {
      "image/png": "[encoded data removed]",
      "text/plain": [
       "<Figure size 432x288 with 1 Axes>"
      ]
     },
     "metadata": {
      "needs_background": "light"
     },
     "output_type": "display_data"
    }
   ],
   "source": [
    "metrics_df[[\"accuracy\",\"val_accuracy\"]].plot()"
   ]
  },
  {
   "cell_type": "markdown",
   "metadata": {},
   "source": [
    "Model terlihat belum dapat 'melihat' feature map dari dalam training data, diperlihatkan dari tidak adanya perkembangan di tiap epoch nya.\n",
    "\n",
    "Kita akan mencoba menggunakan pixel yang lebih besar."
   ]
  },
  {
   "cell_type": "markdown",
   "metadata": {},
   "source": [
    "### Mencoba menggunakan data yang dibangun menjadi berukuran 200x200x3"
   ]
  },
  {
   "cell_type": "code",
   "execution_count": 2,
   "metadata": {},
   "outputs": [
    {
     "name": "stdout",
     "output_type": "stream",
     "text": [
      "Found 9120 files belonging to 2 classes.\n"
     ]
    },
    {
     "name": "stderr",
     "output_type": "stream",
     "text": [
      "2021-11-28 11:55:20.219199: W tensorflow/stream_executor/platform/default/dso_loader.cc:64] Could not load dynamic library 'libcuda.so.1'; dlerror: libcuda.so.1: cannot open shared object file: No such file or directory\n",
      "2021-11-28 11:55:20.219242: W tensorflow/stream_executor/cuda/cuda_driver.cc:269] failed call to cuInit: UNKNOWN ERROR (303)\n",
      "2021-11-28 11:55:20.219260: I tensorflow/stream_executor/cuda/cuda_diagnostics.cc:156] kernel driver does not appear to be running on this host (DESKTOP-72CTI4N): /proc/driver/nvidia/version does not exist\n",
      "2021-11-28 11:55:20.219542: I tensorflow/core/platform/cpu_feature_guard.cc:151] This TensorFlow binary is optimized with oneAPI Deep Neural Network Library (oneDNN) to use the following CPU instructions in performance-critical operations:  AVX2 FMA\n",
      "To enable them in other operations, rebuild TensorFlow with the appropriate compiler flags.\n"
     ]
    },
    {
     "name": "stdout",
     "output_type": "stream",
     "text": [
      "Found 600 files belonging to 2 classes.\n",
      "Epoch 1/10\n",
      "285/285 [==============================] - 120s 416ms/step - loss: 1.7671 - accuracy: 0.7815 - val_loss: 0.4026 - val_accuracy: 0.7933\n",
      "Epoch 2/10\n",
      "285/285 [==============================] - 114s 398ms/step - loss: 0.3215 - accuracy: 0.8457 - val_loss: 0.3983 - val_accuracy: 0.7833\n",
      "Epoch 3/10\n",
      "285/285 [==============================] - 115s 401ms/step - loss: 0.3063 - accuracy: 0.8557 - val_loss: 0.3547 - val_accuracy: 0.8000\n",
      "Epoch 4/10\n",
      "285/285 [==============================] - 115s 402ms/step - loss: 0.2772 - accuracy: 0.8672 - val_loss: 0.3464 - val_accuracy: 0.8200\n",
      "Epoch 5/10\n",
      "285/285 [==============================] - 116s 406ms/step - loss: 0.2601 - accuracy: 0.8765 - val_loss: 0.3585 - val_accuracy: 0.8183\n",
      "Epoch 6/10\n",
      "285/285 [==============================] - 117s 406ms/step - loss: 0.2506 - accuracy: 0.8827 - val_loss: 0.3401 - val_accuracy: 0.8200\n",
      "Epoch 7/10\n",
      "285/285 [==============================] - 114s 399ms/step - loss: 0.2347 - accuracy: 0.8879 - val_loss: 0.3663 - val_accuracy: 0.8317\n",
      "Epoch 8/10\n",
      "285/285 [==============================] - 116s 403ms/step - loss: 0.2193 - accuracy: 0.8953 - val_loss: 0.4019 - val_accuracy: 0.8117\n",
      "Epoch 9/10\n",
      "285/285 [==============================] - 113s 393ms/step - loss: 0.2026 - accuracy: 0.8993 - val_loss: 0.4393 - val_accuracy: 0.8400\n",
      "Epoch 10/10\n",
      "285/285 [==============================] - 113s 395ms/step - loss: 0.1937 - accuracy: 0.9059 - val_loss: 0.3988 - val_accuracy: 0.8400\n"
     ]
    },
    {
     "data": {
      "text/plain": [
       "<AxesSubplot:>"
      ]
     },
     "execution_count": 2,
     "metadata": {},
     "output_type": "execute_result"
    },
    {
     "data": {
      "image/png": "[encoded data removed]",
      "text/plain": [
       "<Figure size 432x288 with 1 Axes>"
      ]
     },
     "metadata": {
      "needs_background": "light"
     },
     "output_type": "display_data"
    },
    {
     "data": {
      "image/png": "[encoded data removed]",
      "text/plain": [
       "<Figure size 432x288 with 1 Axes>"
      ]
     },
     "metadata": {
      "needs_background": "light"
     },
     "output_type": "display_data"
    }
   ],
   "source": [
    "training_set = tensorflow.keras.preprocessing.image_dataset_from_directory(\n",
    "    \"/home/internet/itb/pattern_recognition/training_set\",\n",
    "    seed=101,\n",
    "    image_size=(200, 200),\n",
    "    batch_size=32\n",
    ")\n",
    "validation_set = tensorflow.keras.preprocessing.image_dataset_from_directory(\n",
    "    \"/home/internet/itb/pattern_recognition/validation_set\",\n",
    "    seed=101,\n",
    "    image_size=(200, 200),\n",
    "    batch_size=32\n",
    ")\n",
    "\n",
    "\n",
    "model = models.Sequential(\n",
    "  [\n",
    "    layers.Conv2D(8, (3, 3), activation=\"relu\", padding=\"same\", input_shape=(200, 200, 3)),\n",
    "    layers.MaxPooling2D((2, 2)),\n",
    "    layers.Conv2D(32, (3, 3), activation=\"relu\", padding=\"same\"),\n",
    "    layers.MaxPooling2D((2, 2)),\n",
    "    layers.Conv2D(64, (3, 3), activation=\"relu\", padding=\"same\"),\n",
    "    layers.MaxPooling2D((2, 2)),\n",
    "    layers.Conv2D(128, (3, 3), activation=\"relu\", padding=\"same\"),\n",
    "    layers.Flatten(),\n",
    "    layers.Dense(64, activation=\"relu\"),\n",
    "    layers.Dense(10, activation=\"relu\"),\n",
    "    layers.Dense(1, activation=\"sigmoid\")\n",
    "  ],\n",
    "  name=\"Model\"\n",
    ")\n",
    "\n",
    "model.compile(\n",
    "    optimizer='adam',\n",
    "    loss=\"binary_crossentropy\",\n",
    "    metrics=['accuracy']\n",
    ")\n",
    "\n",
    "history = model.fit(training_set,validation_data=validation_set, epochs=10)\n",
    "metrics_df = pd.DataFrame(history.history)\n",
    "metrics_df[[\"loss\",\"val_loss\"]].plot()\n",
    "metrics_df[[\"accuracy\",\"val_accuracy\"]].plot()"
   ]
  },
  {
   "cell_type": "markdown",
   "metadata": {},
   "source": [
    "Dengan pixel yang lebih besar, terlihat training accuracy sudah meningkat seiring berjalannya training.\n",
    "\n",
    "Namun, dari hasil ini kita dapat lihat bahwa terjadi fenomena overfitting terhadap validation set (ditunjukkan dari jauhnyaperbedaan akurasi antara training set dan validation set)."
   ]
  },
  {
   "cell_type": "markdown",
   "metadata": {},
   "source": [
    "### Pencegahan Overfitting\n",
    "\n",
    "- Menambahkan Dropout Layer untuk mengurangi network complexity\n",
    "- Menggunakan early stopping callback"
   ]
  },
  {
   "cell_type": "code",
   "execution_count": 21,
   "metadata": {},
   "outputs": [
    {
     "name": "stdout",
     "output_type": "stream",
     "text": [
      "Found 9120 files belonging to 2 classes.\n",
      "Found 600 files belonging to 2 classes.\n",
      "Epoch 1/10\n",
      "285/285 [==============================] - 120s 417ms/step - loss: 0.8482 - accuracy: 0.7378 - val_loss: 0.4978 - val_accuracy: 0.7800\n",
      "Epoch 2/10\n",
      "285/285 [==============================] - 130s 453ms/step - loss: 0.4065 - accuracy: 0.8016 - val_loss: 0.4448 - val_accuracy: 0.8033\n",
      "Epoch 3/10\n",
      "285/285 [==============================] - 124s 431ms/step - loss: 0.3620 - accuracy: 0.8252 - val_loss: 0.4101 - val_accuracy: 0.8200\n",
      "Epoch 4/10\n",
      "285/285 [==============================] - 119s 411ms/step - loss: 0.3428 - accuracy: 0.8363 - val_loss: 0.4461 - val_accuracy: 0.7900\n",
      "Epoch 5/10\n",
      "285/285 [==============================] - 128s 445ms/step - loss: 0.3304 - accuracy: 0.8475 - val_loss: 0.3531 - val_accuracy: 0.8250\n",
      "Epoch 6/10\n",
      "285/285 [==============================] - 115s 402ms/step - loss: 0.3208 - accuracy: 0.8571 - val_loss: 0.3757 - val_accuracy: 0.8383\n",
      "Epoch 7/10\n",
      "285/285 [==============================] - 115s 401ms/step - loss: 0.3161 - accuracy: 0.8578 - val_loss: 0.3611 - val_accuracy: 0.8250\n",
      "Epoch 8/10\n",
      "285/285 [==============================] - 115s 402ms/step - loss: 0.3031 - accuracy: 0.8648 - val_loss: 0.3588 - val_accuracy: 0.8217\n",
      "Epoch 9/10\n",
      "285/285 [==============================] - 115s 401ms/step - loss: 0.3018 - accuracy: 0.8663 - val_loss: 0.3452 - val_accuracy: 0.8517\n",
      "Epoch 10/10\n",
      "285/285 [==============================] - 114s 397ms/step - loss: 0.3022 - accuracy: 0.8667 - val_loss: 0.3330 - val_accuracy: 0.8433\n"
     ]
    },
    {
     "data": {
      "text/plain": [
       "<AxesSubplot:>"
      ]
     },
     "execution_count": 21,
     "metadata": {},
     "output_type": "execute_result"
    },
    {
     "data": {
      "image/png": "[encoded data removed]",
      "text/plain": [
       "<Figure size 432x288 with 1 Axes>"
      ]
     },
     "metadata": {
      "needs_background": "light"
     },
     "output_type": "display_data"
    }
   ],
   "source": [
    "training_set = tensorflow.keras.preprocessing.image_dataset_from_directory(\n",
    "    \"/home/internet/itb/pattern_recognition/training_set\",\n",
    "    seed=101,\n",
    "    image_size=(200, 200),\n",
    "    batch_size=32\n",
    ")\n",
    "validation_set = tensorflow.keras.preprocessing.image_dataset_from_directory(\n",
    "    \"/home/internet/itb/pattern_recognition/validation_set\",\n",
    "    seed=101,\n",
    "    image_size=(200, 200),\n",
    "    batch_size=32\n",
    ")\n",
    "\n",
    "# add early stopping callback\n",
    "from tensorflow.keras.callbacks import EarlyStopping\n",
    "callbacks = [\n",
    "  EarlyStopping(monitor='loss', patience=3),\n",
    "]\n",
    "\n",
    "model = models.Sequential(\n",
    "  [\n",
    "    layers.Conv2D(8, (3, 3), activation=\"relu\", padding=\"same\", input_shape=(200, 200, 3)),\n",
    "    layers.MaxPooling2D((2, 2)),\n",
    "    # add dropout layers\n",
    "    layers.Dropout(0.1),\n",
    "\n",
    "    layers.Conv2D(32, (3, 3), activation=\"relu\", padding=\"same\"),\n",
    "    layers.MaxPooling2D((2, 2)),\n",
    "    layers.Dropout(0.1),\n",
    "\n",
    "    layers.Conv2D(64, (3, 3), activation=\"relu\", padding=\"same\"),\n",
    "    layers.MaxPooling2D((2, 2)),\n",
    "    layers.Dropout(0.1),\n",
    "\n",
    "    layers.Conv2D(128, (3, 3), activation=\"relu\", padding=\"same\"),\n",
    "    layers.MaxPooling2D((2, 2)),\n",
    "    layers.Dropout(0.1),\n",
    "\n",
    "    layers.Flatten(),\n",
    "    layers.Dense(64, activation=\"relu\"),\n",
    "    layers.Dropout(0.25),\n",
    "\n",
    "    layers.Dense(10, activation=\"relu\"),\n",
    "    layers.Dense(1, activation=\"sigmoid\")\n",
    "  ],\n",
    "  name=\"Model\"\n",
    ")\n",
    "\n",
    "model.compile(\n",
    "    optimizer='adam',\n",
    "    loss=\"binary_crossentropy\",\n",
    "    metrics=['accuracy']\n",
    ")\n",
    "\n",
    "history = model.fit(training_set,validation_data=validation_set, epochs=10, callbacks=callbacks)\n",
    "metrics_df = pd.DataFrame(history.history)\n",
    "metrics_df[[\"accuracy\",\"val_accuracy\"]].plot()"
   ]
  },
  {
   "cell_type": "markdown",
   "metadata": {},
   "source": [
    "Terlihat bahwa overfit sudah bisa dikendalikan.\n",
    "\n",
    "Perhatikan bahwa tren accuracy masih naik mengikuti besar epoch, berarti sebenarnya nilai accuracy dari training set dan validation set seharusnya bisa lebih baik lagi dengan menaikkan besarnya epoch."
   ]
  },
  {
   "cell_type": "code",
   "execution_count": null,
   "metadata": {},
   "outputs": [],
   "source": []
  }
 ],
 "metadata": {
  "interpreter": {
   "hash": "31f2aee4e71d21fbe5cf8b01ff0e069b9275f58929596ceb00d14d90e3e16cd6"
  },
  "kernelspec": {
   "display_name": "Python 3.8.10 64-bit",
   "language": "python",
   "name": "python3"
  },
  "language_info": {
   "codemirror_mode": {
    "name": "ipython",
    "version": 3
   },
   "file_extension": ".py",
   "mimetype": "text/x-python",
   "name": "python",
   "nbconvert_exporter": "python",
   "pygments_lexer": "ipython3",
   "version": "3.8.10"
  },
  "orig_nbformat": 4
 },
 "nbformat": 4,
 "nbformat_minor": 2
}
